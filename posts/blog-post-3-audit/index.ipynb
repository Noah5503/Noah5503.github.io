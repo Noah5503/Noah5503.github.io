{
 "cells": [
  {
   "cell_type": "raw",
   "metadata": {},
   "source": [
    "---\n",
    "title: Auditing Bias\n",
    "author: Noah Price\n",
    "date: '2025-03-12'\n",
    "image: \"bp3-image.jpg\"\n",
    "description: \"Evaluating the fairness of a machine learning model predicting employment\"\n",
    "format: html\n",
    "---"
   ]
  },
  {
   "attachments": {},
   "cell_type": "markdown",
   "metadata": {},
   "source": [
    "# Abstract\n",
    "\n",
    "When implementing and applying machine learning models to problems, it is imperative that we understand the potential for disparate impacts on people. For example, if a machine learning model were used by a company in their hiring process, and that model demonstrated bias towards certain races over others, that would yield unfair outcomes. In this blog post, a model will be trained which predicts the employment status of individuals based on census data taken in Tennessee in 2018. The model will then be audited for racial bias, with examinations of the prediction rates across racial categories, and a statistical examination of whether the model is fair or not. "
   ]
  },
  {
   "attachments": {},
   "cell_type": "markdown",
   "metadata": {},
   "source": [
    "# Data\n",
    "\n",
    "For this audit, we will use data from the `folktables` library. The following code block imports census data from Tennessee in 2018. It then filters it down to the list of features we will use in our model. In this data, RAC1P is the racial group of the respondent, which we will not use in training the model, so that it will be theoretically blind to race (though it may still exhibit bias). ESR is the employment status of the respondent, which is the target variable. Other notable features include age, level of education, marital status, and indicators of any disabilities in sight, hearing, or cognitive ability."
   ]
  },
  {
   "cell_type": "code",
   "execution_count": 61,
   "metadata": {},
   "outputs": [
    {
     "data": {
      "text/html": [
       "<div>\n",
       "<style scoped>\n",
       "    .dataframe tbody tr th:only-of-type {\n",
       "        vertical-align: middle;\n",
       "    }\n",
       "\n",
       "    .dataframe tbody tr th {\n",
       "        vertical-align: top;\n",
       "    }\n",
       "\n",
       "    .dataframe thead th {\n",
       "        text-align: right;\n",
       "    }\n",
       "</style>\n",
       "<table border=\"1\" class=\"dataframe\">\n",
       "  <thead>\n",
       "    <tr style=\"text-align: right;\">\n",
       "      <th></th>\n",
       "      <th>AGEP</th>\n",
       "      <th>SCHL</th>\n",
       "      <th>MAR</th>\n",
       "      <th>RELP</th>\n",
       "      <th>DIS</th>\n",
       "      <th>ESP</th>\n",
       "      <th>CIT</th>\n",
       "      <th>MIG</th>\n",
       "      <th>MIL</th>\n",
       "      <th>ANC</th>\n",
       "      <th>NATIVITY</th>\n",
       "      <th>DEAR</th>\n",
       "      <th>DEYE</th>\n",
       "      <th>DREM</th>\n",
       "      <th>SEX</th>\n",
       "      <th>RAC1P</th>\n",
       "      <th>ESR</th>\n",
       "    </tr>\n",
       "  </thead>\n",
       "  <tbody>\n",
       "    <tr>\n",
       "      <th>0</th>\n",
       "      <td>72</td>\n",
       "      <td>5.0</td>\n",
       "      <td>5</td>\n",
       "      <td>16</td>\n",
       "      <td>1</td>\n",
       "      <td>NaN</td>\n",
       "      <td>1</td>\n",
       "      <td>1.0</td>\n",
       "      <td>4.0</td>\n",
       "      <td>4</td>\n",
       "      <td>1</td>\n",
       "      <td>2</td>\n",
       "      <td>2</td>\n",
       "      <td>2.0</td>\n",
       "      <td>1</td>\n",
       "      <td>1</td>\n",
       "      <td>6.0</td>\n",
       "    </tr>\n",
       "    <tr>\n",
       "      <th>1</th>\n",
       "      <td>41</td>\n",
       "      <td>18.0</td>\n",
       "      <td>5</td>\n",
       "      <td>16</td>\n",
       "      <td>1</td>\n",
       "      <td>NaN</td>\n",
       "      <td>1</td>\n",
       "      <td>1.0</td>\n",
       "      <td>4.0</td>\n",
       "      <td>1</td>\n",
       "      <td>1</td>\n",
       "      <td>2</td>\n",
       "      <td>1</td>\n",
       "      <td>1.0</td>\n",
       "      <td>1</td>\n",
       "      <td>1</td>\n",
       "      <td>6.0</td>\n",
       "    </tr>\n",
       "    <tr>\n",
       "      <th>2</th>\n",
       "      <td>18</td>\n",
       "      <td>18.0</td>\n",
       "      <td>5</td>\n",
       "      <td>17</td>\n",
       "      <td>2</td>\n",
       "      <td>NaN</td>\n",
       "      <td>1</td>\n",
       "      <td>3.0</td>\n",
       "      <td>4.0</td>\n",
       "      <td>1</td>\n",
       "      <td>1</td>\n",
       "      <td>2</td>\n",
       "      <td>2</td>\n",
       "      <td>2.0</td>\n",
       "      <td>2</td>\n",
       "      <td>1</td>\n",
       "      <td>6.0</td>\n",
       "    </tr>\n",
       "    <tr>\n",
       "      <th>3</th>\n",
       "      <td>26</td>\n",
       "      <td>16.0</td>\n",
       "      <td>5</td>\n",
       "      <td>16</td>\n",
       "      <td>2</td>\n",
       "      <td>NaN</td>\n",
       "      <td>1</td>\n",
       "      <td>3.0</td>\n",
       "      <td>4.0</td>\n",
       "      <td>2</td>\n",
       "      <td>1</td>\n",
       "      <td>2</td>\n",
       "      <td>2</td>\n",
       "      <td>2.0</td>\n",
       "      <td>1</td>\n",
       "      <td>1</td>\n",
       "      <td>6.0</td>\n",
       "    </tr>\n",
       "    <tr>\n",
       "      <th>4</th>\n",
       "      <td>78</td>\n",
       "      <td>20.0</td>\n",
       "      <td>3</td>\n",
       "      <td>16</td>\n",
       "      <td>1</td>\n",
       "      <td>NaN</td>\n",
       "      <td>1</td>\n",
       "      <td>1.0</td>\n",
       "      <td>4.0</td>\n",
       "      <td>4</td>\n",
       "      <td>1</td>\n",
       "      <td>2</td>\n",
       "      <td>2</td>\n",
       "      <td>2.0</td>\n",
       "      <td>2</td>\n",
       "      <td>1</td>\n",
       "      <td>6.0</td>\n",
       "    </tr>\n",
       "  </tbody>\n",
       "</table>\n",
       "</div>"
      ],
      "text/plain": [
       "   AGEP  SCHL  MAR  RELP  DIS  ESP  CIT  MIG  MIL  ANC  NATIVITY  DEAR  DEYE  \\\n",
       "0    72   5.0    5    16    1  NaN    1  1.0  4.0    4         1     2     2   \n",
       "1    41  18.0    5    16    1  NaN    1  1.0  4.0    1         1     2     1   \n",
       "2    18  18.0    5    17    2  NaN    1  3.0  4.0    1         1     2     2   \n",
       "3    26  16.0    5    16    2  NaN    1  3.0  4.0    2         1     2     2   \n",
       "4    78  20.0    3    16    1  NaN    1  1.0  4.0    4         1     2     2   \n",
       "\n",
       "   DREM  SEX  RAC1P  ESR  \n",
       "0   2.0    1      1  6.0  \n",
       "1   1.0    1      1  6.0  \n",
       "2   2.0    2      1  6.0  \n",
       "3   2.0    1      1  6.0  \n",
       "4   2.0    2      1  6.0  "
      ]
     },
     "execution_count": 61,
     "metadata": {},
     "output_type": "execute_result"
    }
   ],
   "source": [
    "from folktables import ACSDataSource, BasicProblem\n",
    "import numpy as np\n",
    "\n",
    "STATE = \"TN\"\n",
    "\n",
    "data_source = ACSDataSource(survey_year='2018', \n",
    "                            horizon='1-Year', \n",
    "                            survey='person')\n",
    "\n",
    "acs_data = data_source.get_data(states=[STATE], download=True)\n",
    "\n",
    "possible_features=['AGEP', 'SCHL', 'MAR', 'RELP', 'DIS', 'ESP', 'CIT', 'MIG', 'MIL', 'ANC', 'NATIVITY', 'DEAR', 'DEYE', 'DREM', 'SEX', 'RAC1P', 'ESR']\n",
    "acs_data[possible_features].head()"
   ]
  },
  {
   "attachments": {},
   "cell_type": "markdown",
   "metadata": {},
   "source": [
    "Now, we will establish a BasicProblem from the data, which will define the problem which we will solve with our eventual model. First, we will define a list of features which does not include race or employment, as we will not use those features in training the model. Then, we will create a BasicProblem which uses that set of features, has employment as the target, and race as the group variable."
   ]
  },
  {
   "cell_type": "code",
   "execution_count": 5,
   "metadata": {},
   "outputs": [],
   "source": [
    "features_to_use = [f for f in possible_features if f not in [\"ESR\", \"RAC1P\"]]\n",
    "\n",
    "EmploymentProblem = BasicProblem(\n",
    "    features=features_to_use,\n",
    "    target='ESR',\n",
    "    target_transform=lambda x: x == 1,\n",
    "    group='RAC1P',\n",
    "    preprocess=lambda x: x,\n",
    "    postprocess=lambda x: np.nan_to_num(x, -1),\n",
    ")\n",
    "\n",
    "features, label, group = EmploymentProblem.df_to_numpy(acs_data)"
   ]
  },
  {
   "attachments": {},
   "cell_type": "markdown",
   "metadata": {},
   "source": [
    "As a final preprocessing step, we will perform a train test split, so that we don't train on all of the data, and can ensure that the model generalizes effectively to new data. The following code block performs this split; the subsequent code block converts the data into a pandas dataframe, which will be convenient for taking a look at the data before training the model."
   ]
  },
  {
   "cell_type": "code",
   "execution_count": 6,
   "metadata": {},
   "outputs": [],
   "source": [
    "from sklearn.model_selection import train_test_split\n",
    "X_train, X_test, y_train, y_test, group_train, group_test = train_test_split(\n",
    "    features, label, group, test_size=0.2, random_state=0)"
   ]
  },
  {
   "cell_type": "code",
   "execution_count": 62,
   "metadata": {},
   "outputs": [
    {
     "data": {
      "text/html": [
       "<div>\n",
       "<style scoped>\n",
       "    .dataframe tbody tr th:only-of-type {\n",
       "        vertical-align: middle;\n",
       "    }\n",
       "\n",
       "    .dataframe tbody tr th {\n",
       "        vertical-align: top;\n",
       "    }\n",
       "\n",
       "    .dataframe thead th {\n",
       "        text-align: right;\n",
       "    }\n",
       "</style>\n",
       "<table border=\"1\" class=\"dataframe\">\n",
       "  <thead>\n",
       "    <tr style=\"text-align: right;\">\n",
       "      <th></th>\n",
       "      <th>AGEP</th>\n",
       "      <th>SCHL</th>\n",
       "      <th>MAR</th>\n",
       "      <th>RELP</th>\n",
       "      <th>DIS</th>\n",
       "      <th>ESP</th>\n",
       "      <th>CIT</th>\n",
       "      <th>MIG</th>\n",
       "      <th>MIL</th>\n",
       "      <th>ANC</th>\n",
       "      <th>NATIVITY</th>\n",
       "      <th>DEAR</th>\n",
       "      <th>DEYE</th>\n",
       "      <th>DREM</th>\n",
       "      <th>SEX</th>\n",
       "      <th>group</th>\n",
       "      <th>label</th>\n",
       "    </tr>\n",
       "  </thead>\n",
       "  <tbody>\n",
       "    <tr>\n",
       "      <th>0</th>\n",
       "      <td>4.0</td>\n",
       "      <td>1.0</td>\n",
       "      <td>5.0</td>\n",
       "      <td>2.0</td>\n",
       "      <td>2.0</td>\n",
       "      <td>2.0</td>\n",
       "      <td>5.0</td>\n",
       "      <td>1.0</td>\n",
       "      <td>0.0</td>\n",
       "      <td>1.0</td>\n",
       "      <td>2.0</td>\n",
       "      <td>2.0</td>\n",
       "      <td>2.0</td>\n",
       "      <td>0.0</td>\n",
       "      <td>1.0</td>\n",
       "      <td>1</td>\n",
       "      <td>False</td>\n",
       "    </tr>\n",
       "    <tr>\n",
       "      <th>1</th>\n",
       "      <td>47.0</td>\n",
       "      <td>19.0</td>\n",
       "      <td>1.0</td>\n",
       "      <td>0.0</td>\n",
       "      <td>1.0</td>\n",
       "      <td>0.0</td>\n",
       "      <td>1.0</td>\n",
       "      <td>1.0</td>\n",
       "      <td>4.0</td>\n",
       "      <td>3.0</td>\n",
       "      <td>1.0</td>\n",
       "      <td>2.0</td>\n",
       "      <td>2.0</td>\n",
       "      <td>2.0</td>\n",
       "      <td>1.0</td>\n",
       "      <td>1</td>\n",
       "      <td>False</td>\n",
       "    </tr>\n",
       "    <tr>\n",
       "      <th>2</th>\n",
       "      <td>35.0</td>\n",
       "      <td>20.0</td>\n",
       "      <td>1.0</td>\n",
       "      <td>0.0</td>\n",
       "      <td>2.0</td>\n",
       "      <td>0.0</td>\n",
       "      <td>1.0</td>\n",
       "      <td>3.0</td>\n",
       "      <td>4.0</td>\n",
       "      <td>2.0</td>\n",
       "      <td>1.0</td>\n",
       "      <td>2.0</td>\n",
       "      <td>2.0</td>\n",
       "      <td>2.0</td>\n",
       "      <td>1.0</td>\n",
       "      <td>1</td>\n",
       "      <td>True</td>\n",
       "    </tr>\n",
       "    <tr>\n",
       "      <th>3</th>\n",
       "      <td>42.0</td>\n",
       "      <td>16.0</td>\n",
       "      <td>3.0</td>\n",
       "      <td>0.0</td>\n",
       "      <td>2.0</td>\n",
       "      <td>0.0</td>\n",
       "      <td>1.0</td>\n",
       "      <td>1.0</td>\n",
       "      <td>2.0</td>\n",
       "      <td>1.0</td>\n",
       "      <td>1.0</td>\n",
       "      <td>2.0</td>\n",
       "      <td>2.0</td>\n",
       "      <td>2.0</td>\n",
       "      <td>1.0</td>\n",
       "      <td>1</td>\n",
       "      <td>True</td>\n",
       "    </tr>\n",
       "    <tr>\n",
       "      <th>4</th>\n",
       "      <td>73.0</td>\n",
       "      <td>19.0</td>\n",
       "      <td>1.0</td>\n",
       "      <td>1.0</td>\n",
       "      <td>2.0</td>\n",
       "      <td>0.0</td>\n",
       "      <td>1.0</td>\n",
       "      <td>1.0</td>\n",
       "      <td>4.0</td>\n",
       "      <td>4.0</td>\n",
       "      <td>1.0</td>\n",
       "      <td>2.0</td>\n",
       "      <td>2.0</td>\n",
       "      <td>2.0</td>\n",
       "      <td>1.0</td>\n",
       "      <td>2</td>\n",
       "      <td>False</td>\n",
       "    </tr>\n",
       "  </tbody>\n",
       "</table>\n",
       "</div>"
      ],
      "text/plain": [
       "   AGEP  SCHL  MAR  RELP  DIS  ESP  CIT  MIG  MIL  ANC  NATIVITY  DEAR  DEYE  \\\n",
       "0   4.0   1.0  5.0   2.0  2.0  2.0  5.0  1.0  0.0  1.0       2.0   2.0   2.0   \n",
       "1  47.0  19.0  1.0   0.0  1.0  0.0  1.0  1.0  4.0  3.0       1.0   2.0   2.0   \n",
       "2  35.0  20.0  1.0   0.0  2.0  0.0  1.0  3.0  4.0  2.0       1.0   2.0   2.0   \n",
       "3  42.0  16.0  3.0   0.0  2.0  0.0  1.0  1.0  2.0  1.0       1.0   2.0   2.0   \n",
       "4  73.0  19.0  1.0   1.0  2.0  0.0  1.0  1.0  4.0  4.0       1.0   2.0   2.0   \n",
       "\n",
       "   DREM  SEX  group  label  \n",
       "0   0.0  1.0      1  False  \n",
       "1   2.0  1.0      1  False  \n",
       "2   2.0  1.0      1   True  \n",
       "3   2.0  1.0      1   True  \n",
       "4   2.0  1.0      2  False  "
      ]
     },
     "execution_count": 62,
     "metadata": {},
     "output_type": "execute_result"
    }
   ],
   "source": [
    "import pandas as pd\n",
    "df = pd.DataFrame(X_train, columns = features_to_use)\n",
    "df[\"group\"] = group_train\n",
    "df[\"label\"] = y_train\n",
    "df.head()"
   ]
  },
  {
   "attachments": {},
   "cell_type": "markdown",
   "metadata": {},
   "source": [
    "Now let's get an idea of the scale of our data, and some of the trends we may observe regarding employment status. The following code block prints the total number of respondents, the total number of employed respondents, and then a breakdown of those metrics by race group."
   ]
  },
  {
   "cell_type": "code",
   "execution_count": 64,
   "metadata": {},
   "outputs": [
    {
     "name": "stdout",
     "output_type": "stream",
     "text": [
      "Number of individuals in dataframe: 54360\n",
      "Number of employed individuals: 24060\n",
      "Number of individuals by race group\n",
      "1    44911\n",
      "2     6717\n",
      "3       80\n",
      "4        2\n",
      "5       30\n",
      "6      880\n",
      "7       31\n",
      "8      630\n",
      "9     1079\n",
      "dtype: int64\n",
      "Employment rate by race group\n",
      "1    0.449244\n",
      "2    0.416853\n",
      "3    0.437500\n",
      "4    1.000000\n",
      "5    0.366667\n",
      "6    0.464773\n",
      "7    0.354839\n",
      "8    0.465079\n",
      "9    0.299351\n",
      "dtype: float64\n",
      "Employment rate for all self-identified categories: 0.3967789165446559\n"
     ]
    }
   ],
   "source": [
    "print(\"Number of individuals in dataframe:\", df.shape[0]) \n",
    "print(\"Number of employed individuals:\", df[\"label\"].sum())\n",
    "print(\"Number of individuals by race\", df.groupby(\"group\").size()) # 1 = white, 2 = black, 3 = other self identified race\n",
    "print(\"Employment rate by race\", df[df['label']].groupby('group').size() / df.groupby('group').size())\n",
    "print(\"Employment rate for all self-identified categories:\", df[df['group'] >= 3]['label'].mean())"
   ]
  },
  {
   "attachments": {},
   "cell_type": "markdown",
   "metadata": {},
   "source": [
    "As we can see, there is data for 54,360 respondents, 24,060 of which are employed, yielding an overall employment rate of **44.26%**. Of those 54,360 individuals, 44,911 are white (group 1), 6,717 are black (group 2), and 2,732 are of other self-identified racial categories (groups 3-9). The employment rate averages out to 44.9244% for white respondents, 41.6853% for black respondents, and 39.6779% across all other categories. To get a more indepth understanding of these categories, let's take a look at employment rate not only by race, but also sex. The following code block generates a bar chart showing the employment rate within each racial group, also filtered by sex."
   ]
  },
  {
   "cell_type": "code",
   "execution_count": 10,
   "metadata": {},
   "outputs": [
    {
     "data": {
      "image/png": "[encoded data removed]",
      "text/plain": [
       "<Figure size 640x480 with 1 Axes>"
      ]
     },
     "metadata": {},
     "output_type": "display_data"
    }
   ],
   "source": [
    "import seaborn as sns\n",
    "import matplotlib.pyplot as plt\n",
    "\n",
    "rate_df = (\n",
    "    df.groupby(['group', 'SEX'])['label']\n",
    "    .mean()\n",
    "    .reset_index()\n",
    ")\n",
    "\n",
    "rate_df['SEX'] = rate_df['SEX'].map({1: 'Men', 2: 'Women'}) # For readability\n",
    "\n",
    "sns.barplot(data=rate_df, x='group', y='label', hue='SEX')\n",
    "\n",
    "plt.ylabel('Employment Rate')\n",
    "plt.xlabel('Race Group')\n",
    "plt.title('Employment Rate by Group and Sex')\n",
    "plt.ylim(0, 1)\n",
    "plt.legend(title='Sex')\n",
    "\n",
    "plt.show()"
   ]
  },
  {
   "attachments": {},
   "cell_type": "markdown",
   "metadata": {},
   "source": [
    "Employment rate is higher for white men than women, but higher for black women than black men. Across other racial groups, the general trend is that males have a higher employment rate, with the exception being people with two or more races, where females have higher rates. Overall, though, there are scarcely differences of more than 8% in categories with sufficient sample sizes (category 4, alaskan natives, shows a large disparity since there were only 2 respondents)."
   ]
  },
  {
   "attachments": {},
   "cell_type": "markdown",
   "metadata": {},
   "source": [
    "# Modeling\n",
    "\n",
    "Now it is time to train a model. I chose to go with the Support Vector Classifier, which aims to make classifications by finding a hyperplane which maximizes the distance between groups. The regularization parameter C is of key interest, as it specifies the model's tolerance for misclassification. With a lower value of C, the model will be more willing to misclassify outliers if the hyperplane can be more distant between groups; with a larger value of C, misclassifications are punished more harshly. To tune this parameter, I will use a grid search in combination with cross validation. The grid search computes scores for X_train on a range of potential C values, performing 5-fold cross validation each time. The `n_jobs` parameter allows the grid search to take advantage of parallel computing-- by setting it to -1, it will use all available cores for computation, minimizing the running time. At the end, the grid search will have the best C value and best accuracy stored in the `best_params_` array and the `best_score_` variable respectively. I initially performed a grid search on a wide range of potential C values, ranging from 0.01 to 100, to get a relative idea of where the parameter should be. This yielded the following results:\n",
    "\n",
    "![Results of initial grid search (C = 10)](./SVC_wide.png)\n",
    "\n",
    "In this range, the optimal value of C was 10. To get even better accuracy, I then adjusted the grid search parameters to a range from 5 - 40, which yields the following results."
   ]
  },
  {
   "cell_type": "code",
   "execution_count": 28,
   "metadata": {},
   "outputs": [
    {
     "name": "stdout",
     "output_type": "stream",
     "text": [
      "Fitting 5 folds for each of 5 candidates, totalling 25 fits\n",
      "[CV] END ...........................................svc__C=5; total time= 2.7min\n",
      "[CV] END ...........................................svc__C=5; total time= 2.7min\n",
      "[CV] END ...........................................svc__C=5; total time= 2.7min\n",
      "[CV] END ...........................................svc__C=5; total time= 2.7min\n",
      "[CV] END ...........................................svc__C=5; total time= 2.7min\n",
      "[CV] END ..........................................svc__C=10; total time= 2.9min\n",
      "[CV] END ..........................................svc__C=10; total time= 2.9min\n",
      "[CV] END ..........................................svc__C=10; total time= 3.0min\n",
      "[CV] END ..........................................svc__C=10; total time= 2.7min\n",
      "[CV] END ..........................................svc__C=10; total time= 2.8min\n",
      "[CV] END ..........................................svc__C=20; total time= 3.3min\n",
      "[CV] END ..........................................svc__C=20; total time= 3.3min\n",
      "[CV] END ..........................................svc__C=20; total time= 3.3min\n",
      "[CV] END ..........................................svc__C=20; total time= 3.3min\n",
      "[CV] END ..........................................svc__C=20; total time= 3.3min\n",
      "[CV] END ..........................................svc__C=30; total time= 3.6min\n",
      "[CV] END ..........................................svc__C=30; total time= 3.6min\n",
      "[CV] END ..........................................svc__C=30; total time= 3.5min\n",
      "[CV] END ..........................................svc__C=30; total time= 3.5min\n",
      "[CV] END ..........................................svc__C=30; total time= 3.6min\n",
      "[CV] END ..........................................svc__C=40; total time= 3.7min\n",
      "[CV] END ..........................................svc__C=40; total time= 3.7min\n",
      "[CV] END ..........................................svc__C=40; total time= 3.7min\n",
      "[CV] END ..........................................svc__C=40; total time= 3.5min\n",
      "[CV] END ..........................................svc__C=40; total time= 2.3min\n",
      "Best C value: 5\n",
      "Best cross-validation accuracy: 0.8216703458425313\n"
     ]
    }
   ],
   "source": [
    "from sklearn.svm import SVC\n",
    "from sklearn.pipeline import make_pipeline\n",
    "from sklearn.preprocessing import StandardScaler\n",
    "from sklearn.model_selection import GridSearchCV, StratifiedKFold\n",
    "\n",
    "# Define the pipeline\n",
    "model = make_pipeline(StandardScaler(), SVC())\n",
    "\n",
    "# Define parameter grid for 'C'\n",
    "param_grid = {'svc__C': [5, 10, 20, 30, 40]}\n",
    "\n",
    "# Set up stratified cross-validation\n",
    "cv = StratifiedKFold(n_splits=5, shuffle=True, random_state=42)\n",
    "\n",
    "# Setup GridSearchCV\n",
    "grid_search = GridSearchCV(\n",
    "    model, \n",
    "    param_grid, \n",
    "    cv=cv, \n",
    "    scoring='accuracy',\n",
    "    n_jobs=-1,\n",
    "    verbose=2\n",
    ")\n",
    "\n",
    "grid_search.fit(X_train, y_train)\n",
    "print(\"Best C value:\", grid_search.best_params_['svc__C'])\n",
    "print(\"Best cross-validation accuracy:\", grid_search.best_score_)\n"
   ]
  },
  {
   "attachments": {},
   "cell_type": "markdown",
   "metadata": {},
   "source": [
    "The optimal C value was found to be 5, with an accuracy of 82.17%. To get a better idea of the model's performance on unseen data, we will now evaluate it on the test data."
   ]
  },
  {
   "cell_type": "code",
   "execution_count": 65,
   "metadata": {},
   "outputs": [
    {
     "name": "stdout",
     "output_type": "stream",
     "text": [
      "Testing accuracy: 82.89183222958057 %\n"
     ]
    }
   ],
   "source": [
    "y_hat = grid_search.predict(X_test)\n",
    "print(\"Testing accuracy:\", (y_hat == y_test).mean()*100, \"%\")"
   ]
  },
  {
   "attachments": {},
   "cell_type": "markdown",
   "metadata": {},
   "source": [
    "The testing accuracy is 82.89%, which is even higher than the training accuracy. For another metric of the model's success, we can look at the positive predictive value (ppv), which is the likelihood that a positive prediction from the model correlates with a positive outcome (in this case, it's the rate at which the model correctly classified employed respondents as employed). The `precision_score` function from `sklearn` can calculate the overall ppv of the model on the test data."
   ]
  },
  {
   "cell_type": "code",
   "execution_count": 30,
   "metadata": {},
   "outputs": [
    {
     "name": "stdout",
     "output_type": "stream",
     "text": [
      "The PPV of the model is 78.03052978150255 %\n"
     ]
    }
   ],
   "source": [
    "from sklearn.metrics import precision_score\n",
    "\n",
    "ppv = precision_score(y_test, y_hat)\n",
    "print(\"The PPV of the model is\", ppv*100, \"%\")"
   ]
  },
  {
   "attachments": {},
   "cell_type": "markdown",
   "metadata": {},
   "source": [
    "With a ppv of 78.03%, the model's positive predictions are trustworthy just over three quarters of the time overall. To more clearly understand the ppv score, we can use `sklearn`'s `confusion_matrix` function to determine the true negative, false positive, false negative, and true positive rates of prediction. The `ravel()` method simply stores each of these values in a separate variable, as opposed to generating the matrix."
   ]
  },
  {
   "cell_type": "code",
   "execution_count": 68,
   "metadata": {},
   "outputs": [
    {
     "name": "stdout",
     "output_type": "stream",
     "text": [
      "The overall False Positive Rate is 19.523872855432902 %\n",
      "The overall False Negative Rate is 14.116290561686707 %\n"
     ]
    }
   ],
   "source": [
    "from sklearn.metrics import confusion_matrix\n",
    "\n",
    "tn, fp, fn, tp = confusion_matrix(y_test, y_hat).ravel()\n",
    "\n",
    "fpr = fp / (fp+tn)\n",
    "fnr = fn / (fn+tp)\n",
    "\n",
    "print(\"The overall False Positive Rate is\", fpr*100, \"%\")\n",
    "print(\"The overall False Negative Rate is\", fnr*100, \"%\")"
   ]
  },
  {
   "attachments": {},
   "cell_type": "markdown",
   "metadata": {},
   "source": [
    "The false positive rate is 19.52%, and the false negative rate is 14.17%. These imply that the true positive rate is 85.83%, and the true negative rate is 80.48%. Overall, the model does a better job with predictions on employed respondents than unemployed respondents, but is at least 80% accurate even in the worst case. To better understand how bias may have crept in the model, we will now examine the rates of prediction more closely across racial categories."
   ]
  },
  {
   "attachments": {},
   "cell_type": "markdown",
   "metadata": {},
   "source": [
    "# Auditing\n",
    "## By-group measures\n",
    "To begin, we will re-calculate the accuracy, positive predictive value, and false positive/false negative rates of the model by each sub-group. Due to the sample size being relatively small across groups outside of black or white, we will group all other self-identified race categories into a single group."
   ]
  },
  {
   "cell_type": "code",
   "execution_count": 67,
   "metadata": {},
   "outputs": [
    {
     "name": "stdout",
     "output_type": "stream",
     "text": [
      "Accuracy for white respondents: 82.97379211980746 %\n",
      "Accuracy for black respondents: 82.17880402605093 %\n",
      "Accuracy for self-identified race respondents: 83.30893118594437 %\n",
      "\n",
      "\n",
      "PPV for white respondents: 78.5496866606983 %\n",
      "PPV for black respondents: 74.52471482889734 %\n",
      "PPV for self-identified race respondents: 77.59740259740259 %\n"
     ]
    }
   ],
   "source": [
    "print(\"Accuracy for white respondents:\", (y_hat == y_test)[group_test == 1].mean()*100, \"%\")\n",
    "print(\"Accuracy for black respondents:\", (y_hat == y_test)[group_test == 2].mean()*100, \"%\")\n",
    "print(\"Accuracy for self-identified race respondents:\", (y_hat == y_test)[group_test >= 3].mean()*100, \"%\")\n",
    "\n",
    "print(\"\\n\")\n",
    "\n",
    "print(\"PPV for white respondents:\", precision_score(y_test[group_test==1], y_hat[group_test==1])*100, \"%\")\n",
    "print(\"PPV for black respondents:\", precision_score(y_test[group_test==2], y_hat[group_test==2])*100, \"%\")\n",
    "print(\"PPV for self-identified race respondents:\", precision_score(y_test[group_test>=3], y_hat[group_test>=3])*100, \"%\")"
   ]
  },
  {
   "attachments": {},
   "cell_type": "markdown",
   "metadata": {},
   "source": [
    "As we can see, the accuracy is relatively similar across all categories, being within 1.2 percentage points of each other. Black respondents are subject to the least accurate predictions, while self-identified race respondents have the most accurate predictions. That said, when it comes to PPV, the numbers are a bit more spread, with a 4 percentage point difference from the most ppv (white respondents) to the least ppv (black respondents). This may suggest that the model over-predicts employment for black respondents, as the case of a positive prediction but a negative outcome is more common for that group based on the PPV. The following code blocks generate the false positive and false negative rates for each racial group."
   ]
  },
  {
   "cell_type": "code",
   "execution_count": 69,
   "metadata": {},
   "outputs": [
    {
     "name": "stdout",
     "output_type": "stream",
     "text": [
      "The False Positive Rate for white respondents is 19.57836247752901 %\n",
      "The False Negative Rate for white respondents is 13.963522259266522 %\n"
     ]
    }
   ],
   "source": [
    "tn1, fp1, fn1, tp1 = confusion_matrix(y_test[group_test==1], y_hat[group_test==1]).ravel()\n",
    "fpr1 = fp1 / (fp1+tn1)\n",
    "fnr1 = fn1 / (fn1+tp1)\n",
    "\n",
    "print(\"The False Positive Rate for white respondents is\", fpr1*100, \"%\")\n",
    "print(\"The False Negative Rate for white respondents is\", fnr1*100, \"%\")"
   ]
  },
  {
   "cell_type": "code",
   "execution_count": 70,
   "metadata": {},
   "outputs": [
    {
     "name": "stdout",
     "output_type": "stream",
     "text": [
      "The False Positive Rate for black respondents is 20.07992007992008 %\n",
      "The False Negative Rate for black respondents is 14.534883720930234 %\n"
     ]
    }
   ],
   "source": [
    "tn2, fp2, fn2, tp2 = confusion_matrix(y_test[group_test==2], y_hat[group_test==2]).ravel()\n",
    "fpr2 = fp2 / (fp2+tn2)\n",
    "fnr2 = fn2 / (fn2+tp2)\n",
    "\n",
    "print(\"The False Positive Rate for black respondents is\", fpr2*100, \"%\")\n",
    "print(\"The False Negative Rate for black respondents is\", fnr2*100, \"%\")"
   ]
  },
  {
   "cell_type": "code",
   "execution_count": 71,
   "metadata": {},
   "outputs": [
    {
     "name": "stdout",
     "output_type": "stream",
     "text": [
      "The False Positive Rate for self-identified race category respondents is 17.293233082706767 %\n",
      "The False Negative Rate for self-identified race category respondents is 15.845070422535212 %\n"
     ]
    }
   ],
   "source": [
    "tn3, fp3, fn3, tp3 = confusion_matrix(y_test[group_test>=3], y_hat[group_test>=3]).ravel()\n",
    "fpr3 = fp3 / (fp3+tn3)\n",
    "fnr3 = fn3 / (fn3+tp3)\n",
    "\n",
    "print(\"The False Positive Rate for self-identified race category respondents is\", fpr3*100, \"%\")\n",
    "print(\"The False Negative Rate for self-identified race category respondents is\", fnr3*100, \"%\")"
   ]
  },
  {
   "attachments": {},
   "cell_type": "markdown",
   "metadata": {},
   "source": [
    "As implied earlier by the ppv results, black respondents were subject to the highest false positive rate, at over 20%. Self-identified race respondents were subject to the highest false negative rate, at almost 16%. White respondents are subject to the lowest false negative rate, at almost 14%, and self-identified race respondents were subject to the lowest false positive rate, at just over 17%. Overall, the error rates are relatively close, within 3 percentage points of one another, but are disparate across the different groups, which may be unfair at a wide enough scale. The model does satisfy approximate error rate balance, though further calculation would be needed to determine whether the percentage point disparities are significant or not."
   ]
  },
  {
   "attachments": {},
   "cell_type": "markdown",
   "metadata": {},
   "source": [
    "## Bias Measures\n",
    "To formally understand potential bias, we will evaluate the model in terms of two more statistical definitions of fairness. The first is calibration. A scoring system is said to be calibrated if, across all different scores and all different groups, the rates of actual outcomes are the same. In our case, the scoring system is simply a positive or negative prediction. Notably, this means that calibration is effectively equivalent to the second definition of fairness: statistical parity, which asks whether the rate of outcomes is equal across different predictive groups. Because our score is a 0 or 1 prediction, satisfying calibration implies satisfying statistical parity, and vice versa. The following code block generates the employment rate by race, and prediction of the model on the test set. To make this calculation easier, we will create a small dataframe with the three relevant criteria."
   ]
  },
  {
   "cell_type": "code",
   "execution_count": 45,
   "metadata": {},
   "outputs": [
    {
     "name": "stdout",
     "output_type": "stream",
     "text": [
      "White respondents, negative prediction:  12.639801171666962 %\n",
      "Black respondents, negative predictions:  11.11111111111111 %\n",
      "Self-identified race respondents, negative predictions:  12.0 %\n",
      "\n",
      "\n",
      "White respondents, positive predictions:  78.5496866606983 %\n",
      "Black respondents, positive predictions:  74.52471482889734 %\n",
      "Self-identified race respondents, positive predictions:  77.59740259740259 %\n"
     ]
    }
   ],
   "source": [
    "# Calibration evaluation\n",
    "calib_df = pd.DataFrame({\n",
    "    'group': group_test,    \n",
    "    'y_true': y_test,\n",
    "    'prediction': y_hat\n",
    "})\n",
    "\n",
    "mean1 = calib_df[(calib_df['group'] == 1) & (calib_df['prediction'] == 0)]['y_true'].mean()\n",
    "print(\"White respondents, negative prediction: \", mean1*100, \"%\")\n",
    "\n",
    "mean2 = calib_df[(calib_df['group'] == 2) & (calib_df['prediction'] == 0)]['y_true'].mean()\n",
    "print(\"Black respondents, negative predictions: \", mean2*100, \"%\")\n",
    "\n",
    "mean3 = calib_df[(calib_df['group'] >= 3) & (calib_df['prediction'] == 0)]['y_true'].mean()\n",
    "print(\"Self-identified race respondents, negative predictions: \", mean3*100, \"%\")\n",
    "\n",
    "print(\"\\n\")\n",
    "\n",
    "mean4 = calib_df[(calib_df['group'] == 1) & (calib_df['prediction'] == 1)]['y_true'].mean()\n",
    "print(\"White respondents, positive predictions: \", mean4*100, \"%\")\n",
    "\n",
    "mean5 = calib_df[(calib_df['group'] == 2) & (calib_df['prediction'] == 1)]['y_true'].mean()\n",
    "print(\"Black respondents, positive predictions: \", mean5*100, \"%\")\n",
    "\n",
    "mean6 = calib_df[(calib_df['group'] >= 3) & (calib_df['prediction'] == 1)]['y_true'].mean()\n",
    "print(\"Self-identified race respondents, positive predictions: \", mean6*100, \"%\")\n"
   ]
  },
  {
   "attachments": {},
   "cell_type": "markdown",
   "metadata": {},
   "source": [
    "Across race and predictive categories, rates of outcome are relatively similar, with a 1.5% distribution in the case of negative predictions, and a 4% distribution in the case of positive predictions (the positive category is equivalent to ppv). Overall, the model seems decently calibrated, especially in the negative case, though further statistical analysis would be necessary to determine if the 4% gap in the positive case is significant. This implies that the model also reasonably satisfies statistical parity, since, as discussed before, the two are effectively identical in the case of prediction."
   ]
  },
  {
   "attachments": {},
   "cell_type": "markdown",
   "metadata": {},
   "source": [
    "## Fairness\n",
    "\n",
    "To determine how fair the model *could* be given some adjustments, we will now reproduce Fig. 7 from Chouldecova, which plots false positive rate as a function of false negative rate. The equation for false positive rate as a function of false negative rate also uses the prevalence of employment in each category, as well as the positive predictive value of the model. Here is the equation:\n",
    "\n",
    "$$\n",
    "FPR = \\frac{p}{1 - p} \\times \\frac{1 - PPV}{PPV} \\times (1 - FNR)\n",
    "$$\n",
    "\n",
    "Specifically, we will use the prevalence from each category, but we will assume a constant ppv, as we are interested in changing the false negative rate, not the ppv. We will use the lowest ppv across all three groups in each calculation, meaning we will take the ppv for black respondents, as that was found to be the weakest ppv earlier. The following code performs all of these calculations, then plots the relations between potential false positive rate and false negative rate, as well as the true values of false positive rate and false negative rate for each group. You will notice that the only point which falls on its corresponding line is the point for black respondents; this is because we used the ppv which correlates with black respondents."
   ]
  },
  {
   "cell_type": "code",
   "execution_count": 57,
   "metadata": {},
   "outputs": [
    {
     "data": {
      "image/png": "[encoded data removed]",
      "text/plain": [
       "<Figure size 800x600 with 1 Axes>"
      ]
     },
     "metadata": {},
     "output_type": "display_data"
    }
   ],
   "source": [
    "p1 = y_test[group_test==1].mean()    # Prevalence\n",
    "p2 = y_test[group_test==2].mean()\n",
    "p3 = y_test[group_test>=3].mean()\n",
    "\n",
    "min_ppv = precision_score(y_test[group_test==2], y_hat[group_test==2]) # Lowest observed PPV was for black respondents\n",
    "\n",
    "def compute_fpr(fnr, p, ppv):\n",
    "    return (p / (1 - p)) * ((1 - ppv) / ppv) * (1 - fnr) # Equation 2.6\n",
    "\n",
    "fnr_values = np.linspace(0, 1, 100)\n",
    "\n",
    "fpr_values_1 = compute_fpr(fnr_values, p1, min_ppv)\n",
    "fpr_values_2 = compute_fpr(fnr_values, p2, min_ppv)\n",
    "fpr_values_3 = compute_fpr(fnr_values, p3, min_ppv)\n",
    "\n",
    "plt.figure(figsize=(8, 6))\n",
    "plt.plot(fnr_values, fpr_values_1, label='FPR vs FNR (1)', color='blue')\n",
    "plt.plot(fnr_values, fpr_values_2, label='FPR vs FNR (2)', color='red')\n",
    "plt.plot(fnr_values, fpr_values_3, label='FPR vs FNR (3)', color='green')\n",
    "\n",
    "plt.scatter(fnr1, fpr1, color='blue', zorder=3, s=17, label=\"Actual Rates (group 1)\")\n",
    "plt.scatter(fnr2, fpr2, color='red', zorder=3, s=17, label=\"Actual Rates (group 2)\")\n",
    "plt.scatter(fnr3, fpr3, color='green', zorder=3, s=17, label=\"Actual Rates (group 3)\")\n",
    "\n",
    "plt.xlabel('False Negative Rate (FNR)')\n",
    "plt.ylabel('False Positive Rate (FPR)')\n",
    "plt.title('FPR as a Function of FNR')\n",
    "plt.grid(True)\n",
    "plt.legend()\n",
    "plt.show()\n"
   ]
  },
  {
   "attachments": {},
   "cell_type": "markdown",
   "metadata": {},
   "source": [
    "Based on this chart, if we want the false positive rate to be equal among all groups, we would have to increase the false negative rate of group 2 to around 27-28%, at which point the actual rate for group 2 would have a matching false positive rate with group 3. Seeing as it currently sits at around 14%, this is a substantial increase, almost doubling the false negative rate. For group 1, the increase would be slightly less significant, as it sits at a lower initial false positive rate, though it would still nearly double. While this solution may decrease the disparate outcomes generated by the model, it would come at a substantial cost in accuracy. There may not be an effective means of correcting this bias without introducing substantial error rates for the model."
   ]
  },
  {
   "attachments": {},
   "cell_type": "markdown",
   "metadata": {},
   "source": [
    "# Discussion\n",
    "\n",
    "1. What groups of people could stand to benefit from a system that is able to predict the label you predicted? For example, what kinds of companies might want to buy your model for commercial use?\n",
    "\n",
    "This model, which predicts the employment status of an individual based on metrics of their life, could be used by a broad range of companies-- essentially any company which is looking to hire people from the general public. When screening applicants, they could feed a given applicant's information to the model, and take a look at its prediction. Obviously, the companty is not necessarily interested in learning the current employment status of the candidate, but if the model predicted that the candidate is currently employed, that may suggest that they are a good choice for the company to hire. This is dangerous, as the company may not understand the model's reasoning for its predictions, and the model may exhibit bias towards certain groups rather than others, which creates an unfair scenario for job seekers.\n",
    "\n",
    "2. Based on your bias audit, what could be the *impact* of deploying your model for large-scale prediction in commercial or governmental settings?\n",
    "\n",
    "Given my bias audit, there are potential disparate impacts for certain groups if this model were to be used in a scenario like the one described above. While error rates between groups were relatively close, and the model was approximately calibrated, the positive predictive value was lower for black respondents than respondents of other racial groups. This suggests that black respondents are over-predicted to be employed when compared with white respondents. Depending on how that result was used, this could lead to inaccurate hiring procedures at a company, or, if used in a governmental setting, could lead to inaccurate predictions regarding employment rates. If employment rates for black people were systematically overpredicted by the government, for example, they may be granted less access to unemployment programs or benefits. \n",
    "\n",
    "3. Based on your bias audit, do you feel that your model displays problematic bias? What kind (calibration, error rate, etc)?\n",
    "\n",
    "While the bias audit did reveal small discrepancies between categories, it is unclear whether this bias is problematic. Without a clear understanding of how the model would be used, as well as whether or not the differences between categories are statistically significant, it is difficult to evaluate whether the bias displayed is problematic or not. The category with the most potential to be problematic was positive predictive value, as the scenario above shows how the 4% discrepancy between white respondents and black respondents could cause harm. However, given the model's relatively even accuracy, and limited displays of bias, I find it unlikely that the model is inherently problematic-- though it could be used in problematic ways.\n",
    "\n",
    "4. Beyond bias, are there other potential problems associated with deploying your model that make you uncomfortable? How would you propose addressing some of these problems?\n",
    "\n",
    "The main issue I see with deploying a model like this is that the prediction it makes is not useful in and of itself, and the sorts of things for which it could be useful are things which I believe automated decision systems should not be handling. In the employment case, hiring processes should be carried out by humans, as reducing a human to a set of features does not give a fair and accurate picture of how that person would be in the workplace. In the governmental setting, predictions should not be used as any form of justification for legislation-- hard data should be used. I believe the most accurate way to address this concern is that machine learning models should only be used in cases where the computational problem at hand is clear, and has relatively low stakes. For example, blog post one on classifying penguins presents an example where the algorithm has relatively low potential to cause societal harm, and has innate utility in allowing someone to predict a species without actually having taken a look at the animal in question. These applications are where machine learning is strong, as the data on which the model is trained, as well as the predictions it makes, have little potential to introduce bias."
   ]
  }
 ],
 "metadata": {
  "kernelspec": {
   "display_name": "ml-0451",
   "language": "python",
   "name": "python3"
  },
  "language_info": {
   "codemirror_mode": {
    "name": "ipython",
    "version": 3
   },
   "file_extension": ".py",
   "mimetype": "text/x-python",
   "name": "python",
   "nbconvert_exporter": "python",
   "pygments_lexer": "ipython3",
   "version": "3.9.21"
  },
  "orig_nbformat": 4
 },
 "nbformat": 4,
 "nbformat_minor": 2
}
