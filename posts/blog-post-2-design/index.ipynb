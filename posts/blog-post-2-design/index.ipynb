{
 "cells": [
  {
   "cell_type": "raw",
   "metadata": {},
   "source": [
    "---\n",
    "title: Design and Impact of Automated Decision Systems\n",
    "author: Noah Price\n",
    "date: '2025-03-05'\n",
    "image: \"bp2-image.jpg\"\n",
    "description: \"Noah Price Blog Post 2 - CSCI0451\"\n",
    "format: html\n",
    "---"
   ]
  },
  {
   "attachments": {},
   "cell_type": "markdown",
   "metadata": {},
   "source": [
    "# Abstract\n",
    "\n",
    "When prospective borrowers request loans from banks, the bank is faced with a fiscal decision to provide the loan or reject the loan. Should the borrower default on the loan, the bank will likely take a loss. However, should they repay the loan, the bank will turn a profit through interest. This blog post will explore one methodology for an automated decision making process for granting or rejecting loans, using weights derived from a machine learning model. These weights will be used to determine the optimal threshold at which the bank should grant or deny loans, assuming we want to optimize for profit. The fairness of this model will then be examined, with a discussion of whether it is acceptable for certain people to have an easier time accessing credit over others."
   ]
  },
  {
   "attachments": {},
   "cell_type": "markdown",
   "metadata": {},
   "source": [
    "# Exploration\n",
    "\n",
    "We will be working with a dataset of borrowers, with a target variable of whether they ended up defaulting on the loan or not. First, let's take a look at the data:"
   ]
  },
  {
   "cell_type": "code",
   "execution_count": 1,
   "metadata": {},
   "outputs": [],
   "source": [
    "import pandas as pd\n",
    "url = \"https://raw.githubusercontent.com/PhilChodrow/ml-notes/main/data/credit-risk/train.csv\"\n",
    "df_train = pd.read_csv(url)"
   ]
  },
  {
   "cell_type": "code",
   "execution_count": 2,
   "metadata": {},
   "outputs": [
    {
     "data": {
      "text/html": [
       "<div>\n",
       "<style scoped>\n",
       "    .dataframe tbody tr th:only-of-type {\n",
       "        vertical-align: middle;\n",
       "    }\n",
       "\n",
       "    .dataframe tbody tr th {\n",
       "        vertical-align: top;\n",
       "    }\n",
       "\n",
       "    .dataframe thead th {\n",
       "        text-align: right;\n",
       "    }\n",
       "</style>\n",
       "<table border=\"1\" class=\"dataframe\">\n",
       "  <thead>\n",
       "    <tr style=\"text-align: right;\">\n",
       "      <th></th>\n",
       "      <th>person_age</th>\n",
       "      <th>person_income</th>\n",
       "      <th>person_home_ownership</th>\n",
       "      <th>person_emp_length</th>\n",
       "      <th>loan_intent</th>\n",
       "      <th>loan_grade</th>\n",
       "      <th>loan_amnt</th>\n",
       "      <th>loan_int_rate</th>\n",
       "      <th>loan_status</th>\n",
       "      <th>loan_percent_income</th>\n",
       "      <th>cb_person_default_on_file</th>\n",
       "      <th>cb_person_cred_hist_length</th>\n",
       "    </tr>\n",
       "  </thead>\n",
       "  <tbody>\n",
       "    <tr>\n",
       "      <th>0</th>\n",
       "      <td>25</td>\n",
       "      <td>43200</td>\n",
       "      <td>RENT</td>\n",
       "      <td>NaN</td>\n",
       "      <td>VENTURE</td>\n",
       "      <td>B</td>\n",
       "      <td>1200</td>\n",
       "      <td>9.91</td>\n",
       "      <td>0</td>\n",
       "      <td>0.03</td>\n",
       "      <td>N</td>\n",
       "      <td>4</td>\n",
       "    </tr>\n",
       "    <tr>\n",
       "      <th>1</th>\n",
       "      <td>27</td>\n",
       "      <td>98000</td>\n",
       "      <td>RENT</td>\n",
       "      <td>3.0</td>\n",
       "      <td>EDUCATION</td>\n",
       "      <td>C</td>\n",
       "      <td>11750</td>\n",
       "      <td>13.47</td>\n",
       "      <td>0</td>\n",
       "      <td>0.12</td>\n",
       "      <td>Y</td>\n",
       "      <td>6</td>\n",
       "    </tr>\n",
       "    <tr>\n",
       "      <th>2</th>\n",
       "      <td>22</td>\n",
       "      <td>36996</td>\n",
       "      <td>RENT</td>\n",
       "      <td>5.0</td>\n",
       "      <td>EDUCATION</td>\n",
       "      <td>A</td>\n",
       "      <td>10000</td>\n",
       "      <td>7.51</td>\n",
       "      <td>0</td>\n",
       "      <td>0.27</td>\n",
       "      <td>N</td>\n",
       "      <td>4</td>\n",
       "    </tr>\n",
       "    <tr>\n",
       "      <th>3</th>\n",
       "      <td>24</td>\n",
       "      <td>26000</td>\n",
       "      <td>RENT</td>\n",
       "      <td>2.0</td>\n",
       "      <td>MEDICAL</td>\n",
       "      <td>C</td>\n",
       "      <td>1325</td>\n",
       "      <td>12.87</td>\n",
       "      <td>1</td>\n",
       "      <td>0.05</td>\n",
       "      <td>N</td>\n",
       "      <td>4</td>\n",
       "    </tr>\n",
       "    <tr>\n",
       "      <th>4</th>\n",
       "      <td>29</td>\n",
       "      <td>53004</td>\n",
       "      <td>MORTGAGE</td>\n",
       "      <td>2.0</td>\n",
       "      <td>HOMEIMPROVEMENT</td>\n",
       "      <td>A</td>\n",
       "      <td>15000</td>\n",
       "      <td>9.63</td>\n",
       "      <td>0</td>\n",
       "      <td>0.28</td>\n",
       "      <td>N</td>\n",
       "      <td>10</td>\n",
       "    </tr>\n",
       "  </tbody>\n",
       "</table>\n",
       "</div>"
      ],
      "text/plain": [
       "   person_age  person_income person_home_ownership  person_emp_length  \\\n",
       "0          25          43200                  RENT                NaN   \n",
       "1          27          98000                  RENT                3.0   \n",
       "2          22          36996                  RENT                5.0   \n",
       "3          24          26000                  RENT                2.0   \n",
       "4          29          53004              MORTGAGE                2.0   \n",
       "\n",
       "       loan_intent loan_grade  loan_amnt  loan_int_rate  loan_status  \\\n",
       "0          VENTURE          B       1200           9.91            0   \n",
       "1        EDUCATION          C      11750          13.47            0   \n",
       "2        EDUCATION          A      10000           7.51            0   \n",
       "3          MEDICAL          C       1325          12.87            1   \n",
       "4  HOMEIMPROVEMENT          A      15000           9.63            0   \n",
       "\n",
       "   loan_percent_income cb_person_default_on_file  cb_person_cred_hist_length  \n",
       "0                 0.03                         N                           4  \n",
       "1                 0.12                         Y                           6  \n",
       "2                 0.27                         N                           4  \n",
       "3                 0.05                         N                           4  \n",
       "4                 0.28                         N                          10  "
      ]
     },
     "execution_count": 2,
     "metadata": {},
     "output_type": "execute_result"
    }
   ],
   "source": [
    "df_train.head()"
   ]
  },
  {
   "attachments": {},
   "cell_type": "markdown",
   "metadata": {},
   "source": [
    "In this dataframe, `loan_status` is the target variable, which is a 0 if the loan was repaid, and a 1 if the borrower defaulted on the loan. We will therefore need to split this column from the rest of the data. We will also drop the `loan_grade` column, as that is the bank's evaluation of how likely the borrower is to repay the loan (which is what we want to figure out ourselves!). Lastly, we will drop any columns with missing data, and convert any qualitative columns to one-hot columns so that our eventual machine learning model will have an easier time with the features."
   ]
  },
  {
   "cell_type": "code",
   "execution_count": 3,
   "metadata": {},
   "outputs": [
    {
     "data": {
      "text/html": [
       "<div>\n",
       "<style scoped>\n",
       "    .dataframe tbody tr th:only-of-type {\n",
       "        vertical-align: middle;\n",
       "    }\n",
       "\n",
       "    .dataframe tbody tr th {\n",
       "        vertical-align: top;\n",
       "    }\n",
       "\n",
       "    .dataframe thead th {\n",
       "        text-align: right;\n",
       "    }\n",
       "</style>\n",
       "<table border=\"1\" class=\"dataframe\">\n",
       "  <thead>\n",
       "    <tr style=\"text-align: right;\">\n",
       "      <th></th>\n",
       "      <th>person_age</th>\n",
       "      <th>person_income</th>\n",
       "      <th>person_emp_length</th>\n",
       "      <th>loan_amnt</th>\n",
       "      <th>loan_int_rate</th>\n",
       "      <th>loan_percent_income</th>\n",
       "      <th>cb_person_cred_hist_length</th>\n",
       "      <th>person_home_ownership_MORTGAGE</th>\n",
       "      <th>person_home_ownership_OTHER</th>\n",
       "      <th>person_home_ownership_OWN</th>\n",
       "      <th>person_home_ownership_RENT</th>\n",
       "      <th>loan_intent_DEBTCONSOLIDATION</th>\n",
       "      <th>loan_intent_EDUCATION</th>\n",
       "      <th>loan_intent_HOMEIMPROVEMENT</th>\n",
       "      <th>loan_intent_MEDICAL</th>\n",
       "      <th>loan_intent_PERSONAL</th>\n",
       "      <th>loan_intent_VENTURE</th>\n",
       "      <th>cb_person_default_on_file_N</th>\n",
       "      <th>cb_person_default_on_file_Y</th>\n",
       "    </tr>\n",
       "  </thead>\n",
       "  <tbody>\n",
       "    <tr>\n",
       "      <th>1</th>\n",
       "      <td>27</td>\n",
       "      <td>98000</td>\n",
       "      <td>3.0</td>\n",
       "      <td>11750</td>\n",
       "      <td>13.47</td>\n",
       "      <td>0.12</td>\n",
       "      <td>6</td>\n",
       "      <td>0</td>\n",
       "      <td>0</td>\n",
       "      <td>0</td>\n",
       "      <td>1</td>\n",
       "      <td>0</td>\n",
       "      <td>1</td>\n",
       "      <td>0</td>\n",
       "      <td>0</td>\n",
       "      <td>0</td>\n",
       "      <td>0</td>\n",
       "      <td>0</td>\n",
       "      <td>1</td>\n",
       "    </tr>\n",
       "    <tr>\n",
       "      <th>2</th>\n",
       "      <td>22</td>\n",
       "      <td>36996</td>\n",
       "      <td>5.0</td>\n",
       "      <td>10000</td>\n",
       "      <td>7.51</td>\n",
       "      <td>0.27</td>\n",
       "      <td>4</td>\n",
       "      <td>0</td>\n",
       "      <td>0</td>\n",
       "      <td>0</td>\n",
       "      <td>1</td>\n",
       "      <td>0</td>\n",
       "      <td>1</td>\n",
       "      <td>0</td>\n",
       "      <td>0</td>\n",
       "      <td>0</td>\n",
       "      <td>0</td>\n",
       "      <td>1</td>\n",
       "      <td>0</td>\n",
       "    </tr>\n",
       "    <tr>\n",
       "      <th>3</th>\n",
       "      <td>24</td>\n",
       "      <td>26000</td>\n",
       "      <td>2.0</td>\n",
       "      <td>1325</td>\n",
       "      <td>12.87</td>\n",
       "      <td>0.05</td>\n",
       "      <td>4</td>\n",
       "      <td>0</td>\n",
       "      <td>0</td>\n",
       "      <td>0</td>\n",
       "      <td>1</td>\n",
       "      <td>0</td>\n",
       "      <td>0</td>\n",
       "      <td>0</td>\n",
       "      <td>1</td>\n",
       "      <td>0</td>\n",
       "      <td>0</td>\n",
       "      <td>1</td>\n",
       "      <td>0</td>\n",
       "    </tr>\n",
       "    <tr>\n",
       "      <th>4</th>\n",
       "      <td>29</td>\n",
       "      <td>53004</td>\n",
       "      <td>2.0</td>\n",
       "      <td>15000</td>\n",
       "      <td>9.63</td>\n",
       "      <td>0.28</td>\n",
       "      <td>10</td>\n",
       "      <td>1</td>\n",
       "      <td>0</td>\n",
       "      <td>0</td>\n",
       "      <td>0</td>\n",
       "      <td>0</td>\n",
       "      <td>0</td>\n",
       "      <td>1</td>\n",
       "      <td>0</td>\n",
       "      <td>0</td>\n",
       "      <td>0</td>\n",
       "      <td>1</td>\n",
       "      <td>0</td>\n",
       "    </tr>\n",
       "    <tr>\n",
       "      <th>6</th>\n",
       "      <td>21</td>\n",
       "      <td>21700</td>\n",
       "      <td>2.0</td>\n",
       "      <td>5500</td>\n",
       "      <td>14.91</td>\n",
       "      <td>0.25</td>\n",
       "      <td>2</td>\n",
       "      <td>0</td>\n",
       "      <td>0</td>\n",
       "      <td>0</td>\n",
       "      <td>1</td>\n",
       "      <td>0</td>\n",
       "      <td>0</td>\n",
       "      <td>1</td>\n",
       "      <td>0</td>\n",
       "      <td>0</td>\n",
       "      <td>0</td>\n",
       "      <td>1</td>\n",
       "      <td>0</td>\n",
       "    </tr>\n",
       "    <tr>\n",
       "      <th>...</th>\n",
       "      <td>...</td>\n",
       "      <td>...</td>\n",
       "      <td>...</td>\n",
       "      <td>...</td>\n",
       "      <td>...</td>\n",
       "      <td>...</td>\n",
       "      <td>...</td>\n",
       "      <td>...</td>\n",
       "      <td>...</td>\n",
       "      <td>...</td>\n",
       "      <td>...</td>\n",
       "      <td>...</td>\n",
       "      <td>...</td>\n",
       "      <td>...</td>\n",
       "      <td>...</td>\n",
       "      <td>...</td>\n",
       "      <td>...</td>\n",
       "      <td>...</td>\n",
       "      <td>...</td>\n",
       "    </tr>\n",
       "    <tr>\n",
       "      <th>26059</th>\n",
       "      <td>36</td>\n",
       "      <td>150000</td>\n",
       "      <td>8.0</td>\n",
       "      <td>3000</td>\n",
       "      <td>7.29</td>\n",
       "      <td>0.02</td>\n",
       "      <td>17</td>\n",
       "      <td>1</td>\n",
       "      <td>0</td>\n",
       "      <td>0</td>\n",
       "      <td>0</td>\n",
       "      <td>0</td>\n",
       "      <td>1</td>\n",
       "      <td>0</td>\n",
       "      <td>0</td>\n",
       "      <td>0</td>\n",
       "      <td>0</td>\n",
       "      <td>1</td>\n",
       "      <td>0</td>\n",
       "    </tr>\n",
       "    <tr>\n",
       "      <th>26060</th>\n",
       "      <td>23</td>\n",
       "      <td>48000</td>\n",
       "      <td>1.0</td>\n",
       "      <td>4325</td>\n",
       "      <td>5.42</td>\n",
       "      <td>0.09</td>\n",
       "      <td>4</td>\n",
       "      <td>0</td>\n",
       "      <td>0</td>\n",
       "      <td>0</td>\n",
       "      <td>1</td>\n",
       "      <td>0</td>\n",
       "      <td>0</td>\n",
       "      <td>0</td>\n",
       "      <td>0</td>\n",
       "      <td>0</td>\n",
       "      <td>1</td>\n",
       "      <td>1</td>\n",
       "      <td>0</td>\n",
       "    </tr>\n",
       "    <tr>\n",
       "      <th>26061</th>\n",
       "      <td>22</td>\n",
       "      <td>60000</td>\n",
       "      <td>0.0</td>\n",
       "      <td>15000</td>\n",
       "      <td>11.71</td>\n",
       "      <td>0.25</td>\n",
       "      <td>4</td>\n",
       "      <td>0</td>\n",
       "      <td>0</td>\n",
       "      <td>0</td>\n",
       "      <td>1</td>\n",
       "      <td>0</td>\n",
       "      <td>0</td>\n",
       "      <td>0</td>\n",
       "      <td>1</td>\n",
       "      <td>0</td>\n",
       "      <td>0</td>\n",
       "      <td>1</td>\n",
       "      <td>0</td>\n",
       "    </tr>\n",
       "    <tr>\n",
       "      <th>26062</th>\n",
       "      <td>30</td>\n",
       "      <td>144000</td>\n",
       "      <td>12.0</td>\n",
       "      <td>35000</td>\n",
       "      <td>12.68</td>\n",
       "      <td>0.24</td>\n",
       "      <td>8</td>\n",
       "      <td>1</td>\n",
       "      <td>0</td>\n",
       "      <td>0</td>\n",
       "      <td>0</td>\n",
       "      <td>0</td>\n",
       "      <td>0</td>\n",
       "      <td>0</td>\n",
       "      <td>0</td>\n",
       "      <td>1</td>\n",
       "      <td>0</td>\n",
       "      <td>1</td>\n",
       "      <td>0</td>\n",
       "    </tr>\n",
       "    <tr>\n",
       "      <th>26063</th>\n",
       "      <td>25</td>\n",
       "      <td>60000</td>\n",
       "      <td>5.0</td>\n",
       "      <td>21450</td>\n",
       "      <td>7.29</td>\n",
       "      <td>0.36</td>\n",
       "      <td>4</td>\n",
       "      <td>0</td>\n",
       "      <td>0</td>\n",
       "      <td>0</td>\n",
       "      <td>1</td>\n",
       "      <td>0</td>\n",
       "      <td>1</td>\n",
       "      <td>0</td>\n",
       "      <td>0</td>\n",
       "      <td>0</td>\n",
       "      <td>0</td>\n",
       "      <td>1</td>\n",
       "      <td>0</td>\n",
       "    </tr>\n",
       "  </tbody>\n",
       "</table>\n",
       "<p>22907 rows × 19 columns</p>\n",
       "</div>"
      ],
      "text/plain": [
       "       person_age  person_income  person_emp_length  loan_amnt  loan_int_rate  \\\n",
       "1              27          98000                3.0      11750          13.47   \n",
       "2              22          36996                5.0      10000           7.51   \n",
       "3              24          26000                2.0       1325          12.87   \n",
       "4              29          53004                2.0      15000           9.63   \n",
       "6              21          21700                2.0       5500          14.91   \n",
       "...           ...            ...                ...        ...            ...   \n",
       "26059          36         150000                8.0       3000           7.29   \n",
       "26060          23          48000                1.0       4325           5.42   \n",
       "26061          22          60000                0.0      15000          11.71   \n",
       "26062          30         144000               12.0      35000          12.68   \n",
       "26063          25          60000                5.0      21450           7.29   \n",
       "\n",
       "       loan_percent_income  cb_person_cred_hist_length  \\\n",
       "1                     0.12                           6   \n",
       "2                     0.27                           4   \n",
       "3                     0.05                           4   \n",
       "4                     0.28                          10   \n",
       "6                     0.25                           2   \n",
       "...                    ...                         ...   \n",
       "26059                 0.02                          17   \n",
       "26060                 0.09                           4   \n",
       "26061                 0.25                           4   \n",
       "26062                 0.24                           8   \n",
       "26063                 0.36                           4   \n",
       "\n",
       "       person_home_ownership_MORTGAGE  person_home_ownership_OTHER  \\\n",
       "1                                   0                            0   \n",
       "2                                   0                            0   \n",
       "3                                   0                            0   \n",
       "4                                   1                            0   \n",
       "6                                   0                            0   \n",
       "...                               ...                          ...   \n",
       "26059                               1                            0   \n",
       "26060                               0                            0   \n",
       "26061                               0                            0   \n",
       "26062                               1                            0   \n",
       "26063                               0                            0   \n",
       "\n",
       "       person_home_ownership_OWN  person_home_ownership_RENT  \\\n",
       "1                              0                           1   \n",
       "2                              0                           1   \n",
       "3                              0                           1   \n",
       "4                              0                           0   \n",
       "6                              0                           1   \n",
       "...                          ...                         ...   \n",
       "26059                          0                           0   \n",
       "26060                          0                           1   \n",
       "26061                          0                           1   \n",
       "26062                          0                           0   \n",
       "26063                          0                           1   \n",
       "\n",
       "       loan_intent_DEBTCONSOLIDATION  loan_intent_EDUCATION  \\\n",
       "1                                  0                      1   \n",
       "2                                  0                      1   \n",
       "3                                  0                      0   \n",
       "4                                  0                      0   \n",
       "6                                  0                      0   \n",
       "...                              ...                    ...   \n",
       "26059                              0                      1   \n",
       "26060                              0                      0   \n",
       "26061                              0                      0   \n",
       "26062                              0                      0   \n",
       "26063                              0                      1   \n",
       "\n",
       "       loan_intent_HOMEIMPROVEMENT  loan_intent_MEDICAL  loan_intent_PERSONAL  \\\n",
       "1                                0                    0                     0   \n",
       "2                                0                    0                     0   \n",
       "3                                0                    1                     0   \n",
       "4                                1                    0                     0   \n",
       "6                                1                    0                     0   \n",
       "...                            ...                  ...                   ...   \n",
       "26059                            0                    0                     0   \n",
       "26060                            0                    0                     0   \n",
       "26061                            0                    1                     0   \n",
       "26062                            0                    0                     1   \n",
       "26063                            0                    0                     0   \n",
       "\n",
       "       loan_intent_VENTURE  cb_person_default_on_file_N  \\\n",
       "1                        0                            0   \n",
       "2                        0                            1   \n",
       "3                        0                            1   \n",
       "4                        0                            1   \n",
       "6                        0                            1   \n",
       "...                    ...                          ...   \n",
       "26059                    0                            1   \n",
       "26060                    1                            1   \n",
       "26061                    0                            1   \n",
       "26062                    0                            1   \n",
       "26063                    0                            1   \n",
       "\n",
       "       cb_person_default_on_file_Y  \n",
       "1                                1  \n",
       "2                                0  \n",
       "3                                0  \n",
       "4                                0  \n",
       "6                                0  \n",
       "...                            ...  \n",
       "26059                            0  \n",
       "26060                            0  \n",
       "26061                            0  \n",
       "26062                            0  \n",
       "26063                            0  \n",
       "\n",
       "[22907 rows x 19 columns]"
      ]
     },
     "execution_count": 3,
     "metadata": {},
     "output_type": "execute_result"
    }
   ],
   "source": [
    "# Pre-processing\n",
    "from sklearn.preprocessing import LabelEncoder\n",
    "le = LabelEncoder()\n",
    "le.fit(df_train[\"loan_status\"]) # for 0, 1, 2 etc. cols\n",
    "\n",
    "def prepare_data(df):\n",
    "  df = df.dropna()\n",
    "  y = le.transform(df[\"loan_status\"])\n",
    "  df = df.drop([\"loan_status\"], axis = 1)\n",
    "  df = df.drop([\"loan_grade\"], axis = 1)\n",
    "  df = pd.get_dummies(df, dtype=int)\n",
    "  return df, y\n",
    "\n",
    "X_train, y_train = prepare_data(df_train)\n",
    "X_train"
   ]
  },
  {
   "attachments": {},
   "cell_type": "markdown",
   "metadata": {},
   "source": [
    "Now we are ready to begin exploring the data. It will be useful to have some idea of potential correlations between features before training the model, as this will help us understand the results we obtain. One potential correlation I thought would be interesting to look at is what interest rate the bank offers a borrower as it relates to the length of the borrower's last employment. Let's first take a look at the minimum, maximum, and average of these features."
   ]
  },
  {
   "cell_type": "code",
   "execution_count": 4,
   "metadata": {},
   "outputs": [
    {
     "name": "stdout",
     "output_type": "stream",
     "text": [
      "min interest rate:  5.42\n",
      "max interest rate:  23.22\n",
      "mean interest rate:  11.03494608634915\n",
      "\n",
      "\n",
      "min emp length:  0.0\n",
      "max emp length:  123.0\n",
      "mean emp length:  4.787357576286724\n"
     ]
    }
   ],
   "source": [
    "print(\"min interest rate: \", X_train[\"loan_int_rate\"].min())\n",
    "print(\"max interest rate: \", X_train[\"loan_int_rate\"].max())\n",
    "print(\"mean interest rate: \", X_train[\"loan_int_rate\"].mean())\n",
    "\n",
    "print(\"\\n\")\n",
    "print(\"min emp length: \", X_train[\"person_emp_length\"].min())\n",
    "print(\"max emp length: \", X_train[\"person_emp_length\"].max())\n",
    "print(\"mean emp length: \", X_train[\"person_emp_length\"].mean())"
   ]
  },
  {
   "attachments": {},
   "cell_type": "markdown",
   "metadata": {},
   "source": [
    "The minimum interest rate that the bank offered a borrower was 5.42%, the maximum was 23.22%, and the mean falls at around 11%. The minimum last employment length was zero, which makes sense, as some borrowers have likely never worked before. The maximum was 123 years, which is almost certainly an error in the data, especially considering that the average was about 4.75 years. For the sake of simplicity, we will consider last employment lengths from 0 to 20 years, and use a chart to visualize what proportion of different employment length buckets received low interest rates versus high interest rates. The following code block generates Figure 1, which shows this relationship."
   ]
  },
  {
   "cell_type": "code",
   "execution_count": 5,
   "metadata": {},
   "outputs": [
    {
     "data": {
      "image/png": "[encoded data removed]",
      "text/plain": [
       "<Figure size 1200x600 with 1 Axes>"
      ]
     },
     "metadata": {},
     "output_type": "display_data"
    }
   ],
   "source": [
    "# Visualization 1\n",
    "import seaborn as sns\n",
    "import matplotlib.pyplot as plt\n",
    "\n",
    "X_train_dv = X_train.copy()\n",
    "\n",
    "# Define employment length bins\n",
    "emp_bins = list(range(0, 24, 3))  # Bins: [0-2, 3-5, 6-8, ..., 18-20]\n",
    "emp_labels = [\"0-2\", \"3-5\", \"6-8\", \"9-11\", \"12-14\", \"15-17\", \"18-20\"]\n",
    "\n",
    "# Categorize employment length into bins\n",
    "X_train_dv[\"emp_length_group\"] = pd.cut(X_train_dv[\"person_emp_length\"], bins=emp_bins, labels=emp_labels, right=True, include_lowest=True)\n",
    "\n",
    "# Categorize interest rates\n",
    "X_train_dv[\"rate_category\"] = X_train_dv[\"loan_int_rate\"].apply(lambda x: \"Below 11%\" if x < 11 else \"Above 11%\")\n",
    "\n",
    "# Create the bar plot\n",
    "plt.figure(figsize=(12, 6))\n",
    "sns.countplot(\n",
    "    data=X_train_dv, \n",
    "    x=\"emp_length_group\", \n",
    "    hue=\"rate_category\",\n",
    "    palette=\"Set1\"\n",
    ")\n",
    "\n",
    "# Customize labels\n",
    "plt.xlabel(\"Employment Length (Years)\")\n",
    "plt.ylabel(\"Count of Individuals\")\n",
    "plt.title(\"Fig 1: Interest Rate Distribution by Employment Length\")\n",
    "plt.legend(title=\"Interest Rate Category\")\n",
    "plt.xticks(rotation=45)\n",
    "\n",
    "plt.show()"
   ]
  },
  {
   "attachments": {},
   "cell_type": "markdown",
   "metadata": {},
   "source": [
    "As we can see, borrowers with last employment lengths of 0-2 years receive above average interest rates more often than borrowers with longer last employment lengths. This suggests that borrowers who have had strong careers are offered more favorable deals than borrowers who have not worked stable for lengthy periods of time. The bank may do this as a form of risk protection, as a higher interest rate will encourage a borrower to repay their loan in a timely manner. However, this may have disparate impacts on people whose last employment length was low, as not having had a long-term job suggests that they may lack savings. Taking on a high-interest loan may be unviable for them, so this distribution may impact some borrowers' ability to access affordable credit."
   ]
  },
  {
   "cell_type": "code",
   "execution_count": 24,
   "metadata": {},
   "outputs": [
    {
     "data": {
      "image/png": "[encoded data removed]",
      "text/plain": [
       "<Figure size 1000x500 with 1 Axes>"
      ]
     },
     "metadata": {},
     "output_type": "display_data"
    }
   ],
   "source": [
    "# Visualization 2\n",
    "plt.figure(figsize=(10, 5))\n",
    "sns.countplot(\n",
    "    data=df_train, \n",
    "    x=\"person_home_ownership\", \n",
    "    hue=\"loan_intent\",\n",
    "    palette=\"Set2\"\n",
    ")\n",
    "\n",
    "plt.xlabel(\"Home Ownership Status\")\n",
    "plt.ylabel(\"Count\")\n",
    "plt.title(\"Fig 2: Loan Intent by Home Ownership Status\")\n",
    "plt.legend(title=\"Loan Intent\")\n",
    "plt.xticks(rotation=45)\n",
    "plt.show()\n"
   ]
  },
  {
   "attachments": {},
   "cell_type": "markdown",
   "metadata": {},
   "source": [
    "Figure 2 plots the relation between loan intent and home ownership status. Renters have the highest rates of education and medical loans, mortgagers have a high rate of education loans as well as personal and debt consolidation loans. Home owners, on the other hand, have disproportionately high rates of venture loans. Venture loans, importantly, are the type of loan most likely to imply that its use is to expand the borrower's capital even further. Medical loans or debt consolidation loans may be necessary for the borrower's continued well-being, whereas venture loans are likely optional loans being taken because there is an opportunity for fiscal gain. What this suggests is that home renters or mortgagers may be in a less stable position than homeowners, which means that their loans are more focused on continued survival rather than development of wealth. If it turns out that venture loans are more likely to be repaid than medical loans, for example, this may lead a profit-driven bank to provide fewer essential loans and more investment loans, which can have strong negative impacts on those in need."
   ]
  },
  {
   "cell_type": "code",
   "execution_count": 7,
   "metadata": {},
   "outputs": [
    {
     "name": "stdout",
     "output_type": "stream",
     "text": [
      "                           Mean_Income_USD  Median_Income_USD  \\\n",
      "cb_person_default_on_file                                       \n",
      "N                             65990.726858            55315.0   \n",
      "Y                             65900.076251            54000.0   \n",
      "\n",
      "                           Mean_Loan_Size_USD  Median_Loan_Size_USD  \n",
      "cb_person_default_on_file                                            \n",
      "N                                 9464.480849                8000.0  \n",
      "Y                                10062.338868                8100.0  \n"
     ]
    }
   ],
   "source": [
    "# Summary Table\n",
    "summary_table = df_train.groupby(\"cb_person_default_on_file\").aggregate(\n",
    "    Mean_Income_USD=(\"person_income\", \"mean\"),\n",
    "    Median_Income_USD=(\"person_income\", \"median\"),\n",
    "    Mean_Loan_Size_USD=(\"loan_amnt\", \"mean\"),\n",
    "    Median_Loan_Size_USD=(\"loan_amnt\", \"median\")\n",
    ")\n",
    "\n",
    "# Display the table\n",
    "print(summary_table)"
   ]
  },
  {
   "attachments": {},
   "cell_type": "markdown",
   "metadata": {},
   "source": [
    "The summary table above displays the mean and median income as well as mean and median loan size, organized by whether the borrowers had a default on file or not. My suspicion before making this table was that borrowers with a default on file may have lower income than borrowers without one, and that borrowers with a default on file may only be approved for smaller loans than borrowers without one. Interestingly, neither of my predicted relationships seem to hold, as mean and median income are very similar across both categories, and mean loan size is actually higher for those with a default on file than those without one. This may suggest that having a default on file is not a significant factor in the bank's decision making, and that having a default on file is not correlated with income. Therefore, our machine learning model may place relatively little weight on loan size or income."
   ]
  },
  {
   "attachments": {},
   "cell_type": "markdown",
   "metadata": {},
   "source": [
    "# Modeling\n",
    "\n",
    "Now it is time to train a model to predict whether a borrower will default or not. This will result in a vector of weights $\\mathbf{w}$, which we can then use to decide whether loans should be approved or not.\n",
    "\n",
    "To begin, we'll need to choose what features we want to use to train the model-- for simplicity, we can simply provide the model with all of the features as a starting point, and evaluate its accuracy. In many cases, this approach is effective out of the box, and won't require any further selection of features. \n",
    "\n",
    "The following code block simply trains a LogisticRegression on all columns of X_train (except `loan_grade` of course, since it was dropped earlier). The only further transformation we will apply to the data is a logorithmic scale to income, as the wide range of values present in the income column is cumbersome for the LogisticRegression. By scaling it, the LR can converge more efficiently. We will then use 5-fold cross validation to simulate a test of the model, and evaluate the average accuracy. The output will contain some warnings regarding the number of iterations, due to the scale of the data being very large-- we could increase the number of iterations to account for this, but this process is a good starting point, and leaving the number of iterations at default maintains a low running time."
   ]
  },
  {
   "cell_type": "code",
   "execution_count": 60,
   "metadata": {},
   "outputs": [
    {
     "name": "stderr",
     "output_type": "stream",
     "text": [
      "/opt/anaconda3/envs/ml-0451/lib/python3.9/site-packages/sklearn/linear_model/_logistic.py:465: ConvergenceWarning: lbfgs failed to converge (status=1):\n",
      "STOP: TOTAL NO. of ITERATIONS REACHED LIMIT.\n",
      "\n",
      "Increase the number of iterations (max_iter) or scale the data as shown in:\n",
      "    https://scikit-learn.org/stable/modules/preprocessing.html\n",
      "Please also refer to the documentation for alternative solver options:\n",
      "    https://scikit-learn.org/stable/modules/linear_model.html#logistic-regression\n",
      "  n_iter_i = _check_optimize_result(\n",
      "/opt/anaconda3/envs/ml-0451/lib/python3.9/site-packages/sklearn/linear_model/_logistic.py:465: ConvergenceWarning: lbfgs failed to converge (status=1):\n",
      "STOP: TOTAL NO. of ITERATIONS REACHED LIMIT.\n",
      "\n",
      "Increase the number of iterations (max_iter) or scale the data as shown in:\n",
      "    https://scikit-learn.org/stable/modules/preprocessing.html\n",
      "Please also refer to the documentation for alternative solver options:\n",
      "    https://scikit-learn.org/stable/modules/linear_model.html#logistic-regression\n",
      "  n_iter_i = _check_optimize_result(\n",
      "/opt/anaconda3/envs/ml-0451/lib/python3.9/site-packages/sklearn/linear_model/_logistic.py:465: ConvergenceWarning: lbfgs failed to converge (status=1):\n",
      "STOP: TOTAL NO. of ITERATIONS REACHED LIMIT.\n",
      "\n",
      "Increase the number of iterations (max_iter) or scale the data as shown in:\n",
      "    https://scikit-learn.org/stable/modules/preprocessing.html\n",
      "Please also refer to the documentation for alternative solver options:\n",
      "    https://scikit-learn.org/stable/modules/linear_model.html#logistic-regression\n",
      "  n_iter_i = _check_optimize_result(\n",
      "/opt/anaconda3/envs/ml-0451/lib/python3.9/site-packages/sklearn/linear_model/_logistic.py:465: ConvergenceWarning: lbfgs failed to converge (status=1):\n",
      "STOP: TOTAL NO. of ITERATIONS REACHED LIMIT.\n",
      "\n",
      "Increase the number of iterations (max_iter) or scale the data as shown in:\n",
      "    https://scikit-learn.org/stable/modules/preprocessing.html\n",
      "Please also refer to the documentation for alternative solver options:\n",
      "    https://scikit-learn.org/stable/modules/linear_model.html#logistic-regression\n",
      "  n_iter_i = _check_optimize_result(\n",
      "/opt/anaconda3/envs/ml-0451/lib/python3.9/site-packages/sklearn/linear_model/_logistic.py:465: ConvergenceWarning: lbfgs failed to converge (status=1):\n",
      "STOP: TOTAL NO. of ITERATIONS REACHED LIMIT.\n",
      "\n",
      "Increase the number of iterations (max_iter) or scale the data as shown in:\n",
      "    https://scikit-learn.org/stable/modules/preprocessing.html\n",
      "Please also refer to the documentation for alternative solver options:\n",
      "    https://scikit-learn.org/stable/modules/linear_model.html#logistic-regression\n",
      "  n_iter_i = _check_optimize_result(\n",
      "/opt/anaconda3/envs/ml-0451/lib/python3.9/site-packages/sklearn/linear_model/_logistic.py:465: ConvergenceWarning: lbfgs failed to converge (status=1):\n",
      "STOP: TOTAL NO. of ITERATIONS REACHED LIMIT.\n",
      "\n",
      "Increase the number of iterations (max_iter) or scale the data as shown in:\n",
      "    https://scikit-learn.org/stable/modules/preprocessing.html\n",
      "Please also refer to the documentation for alternative solver options:\n",
      "    https://scikit-learn.org/stable/modules/linear_model.html#logistic-regression\n",
      "  n_iter_i = _check_optimize_result(\n"
     ]
    }
   ],
   "source": [
    "# Train an LR using all features except loan grade\n",
    "\n",
    "from sklearn.linear_model import LogisticRegression\n",
    "from sklearn.model_selection import cross_val_score\n",
    "import numpy as np\n",
    "\n",
    "X_train[\"person_income\"] = np.log1p(X_train[\"person_income\"])  # log scale person income due to wide range\n",
    "\n",
    "LR = LogisticRegression()\n",
    "LR.fit(X_train, y_train)\n",
    "scores = cross_val_score(LR, X_train, y_train, cv=5) # Using 5-fold cross validation"
   ]
  },
  {
   "cell_type": "code",
   "execution_count": 9,
   "metadata": {},
   "outputs": [
    {
     "name": "stdout",
     "output_type": "stream",
     "text": [
      "0.8159947464862315\n"
     ]
    }
   ],
   "source": [
    "print(np.mean(scores))"
   ]
  },
  {
   "attachments": {},
   "cell_type": "markdown",
   "metadata": {},
   "source": [
    "The model achieved an average accuracy of 81.6%, which is reasonably accurate for this sort of prediction. Embedded in this model is our vector of weights $\\mathbf{w}$, which we can use to compute a borrower score for each borrower in the training set. The LR uses this score to make a prediction on its own, but we will manually use the vector to make our own prediction by determing the cutoff point at which we can maximize profit. For simplicity, I will use the provided mathematical model, where the profits for the case where the loan is repaid and the case where the loan is defaulted are as follows:"
   ]
  },
  {
   "attachments": {},
   "cell_type": "markdown",
   "metadata": {},
   "source": [
    "$$\n",
    "\\text{Repaid Profit} = \\text{Loan Amount} \\times (1 + 0.25 \\times \\text{Loan Interest Rate})^{10} - \\text{Loan Amount}\n",
    "$$\n",
    "\n",
    "$$\n",
    "\\text{Defaulted 'Profit'} = \\text{Loan Amount} \\times (1 + 0.25 \\times \\text{Loan Interest Rate})^{3} - 1.7 \\times \\text{Loan Amount}\n",
    "$$"
   ]
  },
  {
   "attachments": {},
   "cell_type": "markdown",
   "metadata": {},
   "source": [
    "The following code block uses this mathematical model to determine the optimal threshold at which we should stop accepting loans. It first calculates the score for each borrower, then creates a new dataframe which contains the borrower's score, the outcome of their loan (whether they repaid it or defaulted on it), and the profit made from their loan in either case as determined by the mathematical model above. It then adds a new column to the dataframe, expected profit, which contains the actual profit made if this loan is accepted based on the outcome of the loan and the profit calculation. Lastly, it calculates the cumulative profit made if we accept all borrowers above every possible threshold, then prints out the threshold at which the maximum cumulative profit is made, as well as what that profit is, and what the profit per borrower is."
   ]
  },
  {
   "cell_type": "code",
   "execution_count": 43,
   "metadata": {},
   "outputs": [
    {
     "name": "stdout",
     "output_type": "stream",
     "text": [
      "Optimal Threshold:  0.14241452471915317\n",
      "Optimal Profit:  3313401.632051698\n",
      "Optimal PPB:  2754.2823209074795\n"
     ]
    }
   ],
   "source": [
    "# Find the optimal profit threshold based on the predictions made by the LR\n",
    "borrower_scores = X_train.values @ LR.coef_.ravel() # ravel method fixes dimensions of coef vector\n",
    "borrower_scores = borrower_scores.flatten() # flatten method converts ~20000 * 1 matrix to a 1d array of length ~20000\n",
    "\n",
    "repay_profit = X_train[\"loan_amnt\"] * (1 + 0.25*(X_train[\"loan_int_rate\"]/100))**10 - X_train[\"loan_amnt\"]\n",
    "default_profit = X_train[\"loan_amnt\"] * (1 + 0.25 *(X_train[\"loan_int_rate\"]/100))**3 - 1.7*X_train[\"loan_amnt\"]\n",
    "\n",
    "df_scores = pd.DataFrame({\n",
    "    \"score\": borrower_scores,\n",
    "    \"outcome\": y_train,\n",
    "    \"repay_profit\": repay_profit,\n",
    "    \"default_profit\": default_profit\n",
    "})\n",
    "\n",
    "df_scores = df_scores.sort_values(by=\"score\", ascending=False).reset_index(drop=True) # sort so we can test thresholds from top to bottom\n",
    "\n",
    "df_scores[\"expected_profit\"] = df_scores[\"outcome\"] * df_scores[\"repay_profit\"] + (1 - df_scores[\"outcome\"]) * df_scores[\"default_profit\"]\n",
    "df_scores = df_scores.sort_values(by=\"score\")\n",
    "sorted_scores = df_scores[\"score\"].values\n",
    "sorted_profits = df_scores[\"expected_profit\"].values\n",
    "\n",
    "# Compute cumulative profit in reverse order\n",
    "cumulative_profit = np.cumsum(sorted_profits[::-1])[::-1] # cumulative profit across all approved borrowers\n",
    "num_borrowers = np.arange(len(sorted_scores), 0, -1) # total num of borrowers\n",
    "profit_per_borrower = cumulative_profit / num_borrowers  \n",
    "\n",
    "# Find the threshold that maximizes profit\n",
    "optimal_index = np.argmax(cumulative_profit)\n",
    "optimal_threshold = sorted_scores[optimal_index]\n",
    "optimal_profit = cumulative_profit[optimal_index]\n",
    "optimal_PPB = profit_per_borrower[optimal_index]\n",
    "\n",
    "print(\"Optimal Threshold: \", optimal_threshold)\n",
    "print(\"Optimal Profit: \", optimal_profit)\n",
    "print(\"Optimal PPB: \", optimal_PPB)"
   ]
  },
  {
   "attachments": {},
   "cell_type": "markdown",
   "metadata": {},
   "source": [
    "This model imputes an optimal score threshold of about 0.14, at which the profit on the training set is calculated to be 3.3 million dollars, with a profit per borrower of $2754.28. The following code block visualizes all possible thresholds as a line, showing clearly where the maxima lies."
   ]
  },
  {
   "cell_type": "code",
   "execution_count": 53,
   "metadata": {},
   "outputs": [
    {
     "data": {
      "image/png": "[encoded data removed]",
      "text/plain": [
       "<Figure size 1000x500 with 1 Axes>"
      ]
     },
     "metadata": {},
     "output_type": "display_data"
    }
   ],
   "source": [
    "plt.figure(figsize=(10, 5))\n",
    "plt.plot(sorted_scores, cumulative_profit, label=\"Cumulative Profit\")\n",
    "label1 = (\"Optimal Threshold: \" + str(float(optimal_threshold)))\n",
    "plt.axvline(optimal_threshold, color='r', linestyle='dashed', label=label1)\n",
    "label2 = (\"Optimal Profit: $\" + str(round(float(optimal_profit), 2)))\n",
    "plt.scatter(optimal_threshold, optimal_profit, color='green', zorder=3, s=17, label = label2)\n",
    "\n",
    "plt.xlabel(\"Borrower Score (Threshold)\")\n",
    "plt.xlim(0.0, 0.5)\n",
    "plt.ylabel(\"Cumulative Profit (millions USD)\")\n",
    "plt.ylim(2000000, 3500000)\n",
    "plt.title(\"Optimized Profit vs. Score Threshold\")\n",
    "plt.legend()\n",
    "plt.grid(True)\n",
    "plt.show()"
   ]
  },
  {
   "attachments": {},
   "cell_type": "markdown",
   "metadata": {},
   "source": [
    "# Evaluation\n",
    "\n",
    "To properly evaluate this model, we must now test it out on a test data set to ensure that it is not subject to overfitting on the training set. To accomplish this, we will pull the test data and apply the same preparation steps that we took with the training data. We will then apply our calculated optimal threshold, and determine the profit if we accept all borrowers in the test set with scores above the threshold."
   ]
  },
  {
   "cell_type": "code",
   "execution_count": 63,
   "metadata": {},
   "outputs": [],
   "source": [
    "# Evaluate on test dataset\n",
    "url = \"https://raw.githubusercontent.com/PhilChodrow/ml-notes/main/data/credit-risk/test.csv\"\n",
    "df_test = pd.read_csv(url)\n",
    "\n",
    "X_test, y_test = prepare_data(df_test)\n",
    "X_test[\"person_income\"] = np.log1p(X_test[\"person_income\"])  # log scale person income due to wide range"
   ]
  },
  {
   "cell_type": "code",
   "execution_count": 65,
   "metadata": {},
   "outputs": [
    {
     "name": "stdout",
     "output_type": "stream",
     "text": [
      "Total Profit:  365142.9799703294\n",
      "Average PPB:  8693.880475484033\n",
      "Approval Rate: 0.7365352155899954 %\n",
      "Approved Loans:  42\n",
      "Total Requested Loans:  5731\n"
     ]
    }
   ],
   "source": [
    "borrower_scores_test = X_test.values @ LR.coef_.ravel()\n",
    "borrower_scores_test = borrower_scores_test.flatten()\n",
    "\n",
    "threshold = 0.14241452471915317\n",
    "loan_approved = borrower_scores_test >= threshold\n",
    "repay_profit_test = X_test[\"loan_amnt\"] * (1 + 0.25*(X_test[\"loan_int_rate\"]/100))**10 - X_test[\"loan_amnt\"]\n",
    "default_profit_test = X_test[\"loan_amnt\"] * (1 + 0.25 *(X_test[\"loan_int_rate\"]/100))**3 - 1.7*X_test[\"loan_amnt\"]\n",
    "\n",
    "df_scores_test = pd.DataFrame({\n",
    "    \"score\": borrower_scores_test,\n",
    "    \"outcome\": y_test,\n",
    "    \"repay_profit\": repay_profit_test,\n",
    "    \"default_profit\": default_profit_test\n",
    "})\n",
    "\n",
    "df_scores_test[\"expected_profit\"] = df_scores_test[\"outcome\"] * df_scores_test[\"repay_profit\"] + (1 - df_scores_test[\"outcome\"]) * df_scores_test[\"default_profit\"]\n",
    "\n",
    "profit_test = np.where(\n",
    "    loan_approved,\n",
    "    df_scores_test[\"expected_profit\"],\n",
    "    0  # 0 change if the loan is denied\n",
    ")\n",
    "\n",
    "revenue = profit_test[profit_test > 0]\n",
    "total_profit_test = revenue.sum()\n",
    "profit_per_borrower_test = revenue.mean()\n",
    "\n",
    "print(\"Total Profit: \", total_profit_test)\n",
    "print(\"Average PPB: \", profit_per_borrower_test)\n",
    "print(\"Approval Rate:\", (loan_approved.sum() / len(df_test)) * 100, \"%\")\n",
    "print(\"Approved Loans: \", len(revenue))\n",
    "print(\"Total Requested Loans: \", len(profit_test))"
   ]
  },
  {
   "attachments": {},
   "cell_type": "markdown",
   "metadata": {},
   "source": [
    "As we can see, the model is profitable on the test set as well, with a profit of $365,142.98, and a profit per borrower of $8693.88. These scores indicate a high level of profitability for the bank, and show that the model generalizes effectively. However, we also see that the approval rate is very low, at 0.74%. Out of 5731 prospective borrowers, only 42 were given loans under this pure capital optimization model. While this may be perfect for the bank in terms of making money, the borrower adds another side to the story."
   ]
  },
  {
   "attachments": {},
   "cell_type": "markdown",
   "metadata": {},
   "source": [
    "# The Borrower's Perspective\n",
    "\n",
    "1. Is it more difficult for people in certain age groups to access credit under your system?\n",
    "\n",
    "To answer this question, let's take a look at the rows in X_test (the borrowers) that were approved to get a loan based on the optimal threshold I determined. The following line of code prints the ages of each approved borrower. The line after prints the min, max, and average age of the approved borrowers."
   ]
  },
  {
   "cell_type": "code",
   "execution_count": 72,
   "metadata": {},
   "outputs": [
    {
     "name": "stdout",
     "output_type": "stream",
     "text": [
      "241     23\n",
      "276     31\n",
      "312     22\n",
      "318     23\n",
      "339     31\n",
      "350     25\n",
      "391     23\n",
      "437     24\n",
      "489     29\n",
      "550     22\n",
      "650     23\n",
      "705     21\n",
      "952     27\n",
      "1050    30\n",
      "1211    21\n",
      "1241    27\n",
      "1311    22\n",
      "1423    27\n",
      "1669    25\n",
      "2086    23\n",
      "2218    23\n",
      "2358    22\n",
      "2375    22\n",
      "2434    24\n",
      "3492    28\n",
      "3608    23\n",
      "3763    21\n",
      "3821    21\n",
      "3974    23\n",
      "4098    23\n",
      "4116    24\n",
      "4243    22\n",
      "4542    22\n",
      "4740    28\n",
      "4785    21\n",
      "4901    23\n",
      "4945    27\n",
      "4980    23\n",
      "5316    22\n",
      "5592    22\n",
      "5645    27\n",
      "5924    28\n",
      "6013    27\n",
      "6015    26\n",
      "6102    21\n",
      "6118    24\n",
      "6447    22\n",
      "6491    27\n",
      "Name: person_age, dtype: int64\n"
     ]
    }
   ],
   "source": [
    "print(X_test[loan_approved > 0][\"person_age\"])"
   ]
  },
  {
   "cell_type": "code",
   "execution_count": 74,
   "metadata": {},
   "outputs": [
    {
     "name": "stdout",
     "output_type": "stream",
     "text": [
      "21\n",
      "31\n",
      "24.270833333333332\n"
     ]
    }
   ],
   "source": [
    "print(X_test[loan_approved > 0][\"person_age\"].min())\n",
    "print(X_test[loan_approved > 0][\"person_age\"].max())\n",
    "print(X_test[loan_approved > 0][\"person_age\"].mean())"
   ]
  },
  {
   "attachments": {},
   "cell_type": "markdown",
   "metadata": {},
   "source": [
    "As we can see, the youngest borrower who was approved for a loan was 21 years old, and the oldest one was 31 years old. This is a tight one decade range, which suggests that older borrowers are being unilaterally denied. To see how significant the impact is, let's take a look at how many prospective borrowers there were that are over the age of 31."
   ]
  },
  {
   "cell_type": "code",
   "execution_count": 79,
   "metadata": {},
   "outputs": [
    {
     "name": "stdout",
     "output_type": "stream",
     "text": [
      "1180\n"
     ]
    }
   ],
   "source": [
    "print((X_test[\"person_age\"] > 31).sum())"
   ]
  },
  {
   "attachments": {},
   "cell_type": "markdown",
   "metadata": {},
   "source": [
    "1180 borrowers above the age of 31 were denied credit. While it is possible (and likely) that factors other than age played a role in determining whether these borrowers would be approved or not, this result still suggests that the model unfairly trends towards younger borrowers."
   ]
  },
  {
   "attachments": {},
   "cell_type": "markdown",
   "metadata": {},
   "source": [
    "2. Is it more difficult for people to get loans in order to pay for medical expenses? How does this compare with the actual rate of default in that group? What about people seeking loans for business ventures or education?\n",
    "\n",
    "To answer this question, let's take a look at the proportion of approval and default for medical loans, education loans, and venture loans. The following code block computes the approval rate and default rate in each category of loan, then displays the results in a summary table."
   ]
  },
  {
   "cell_type": "code",
   "execution_count": 91,
   "metadata": {},
   "outputs": [
    {
     "name": "stdout",
     "output_type": "stream",
     "text": [
      "  Loan Intent  Approval Rate (%)  Default Rate (%)\n",
      "0     Medical           1.118360         28.424977\n",
      "1   Education           0.850340         16.751701\n",
      "2     Venture           0.414938         14.626556\n"
     ]
    }
   ],
   "source": [
    "categories = [\"loan_intent_MEDICAL\", \"loan_intent_EDUCATION\", \"loan_intent_VENTURE\"]\n",
    "loan_approved_dv = df_scores_test[\"score\"] >= optimal_threshold\n",
    "summary_data = []\n",
    "\n",
    "# Loop through each category and compute metrics\n",
    "for category in categories:\n",
    "    # Filter for loans in the current category\n",
    "    category_mask = X_test[category] == 1\n",
    "\n",
    "    # Calculate approval rate and default rate\n",
    "    approval_rate = loan_approved_dv.loc[category_mask].mean() * 100  # % of loans approved in current category\n",
    "    default_rate = (y_test[category_mask] == 1).mean() * 100  # % of loans that defaulted in current category\n",
    "\n",
    "    # Append results to summary data\n",
    "    summary_data.append([category.replace(\"loan_intent_\", \"\").title(), approval_rate, default_rate])\n",
    "\n",
    "# Create DataFrame\n",
    "summary_table = pd.DataFrame(summary_data, columns=[\"Loan Intent\", \"Approval Rate (%)\", \"Default Rate (%)\"])\n",
    "\n",
    "# Display summary table\n",
    "print(summary_table)\n"
   ]
  },
  {
   "attachments": {},
   "cell_type": "markdown",
   "metadata": {},
   "source": [
    "Based on this summary table, borrowers with medical intent have the highest rate of default, at 28%. In spite of this, they have a high approval rate in my model at 1.11%. Education and venture loans have lower rates of default, but lower rates of approval as well. What this suggests is that the LogisticRegression model we trained earlier likely did not consider loan intent as a highly weighted category for prediction, as, if it did, it is likely that fewer medical loans would get approved than venture loans."
   ]
  },
  {
   "attachments": {},
   "cell_type": "markdown",
   "metadata": {},
   "source": [
    "3. How does a person's income level impact the ease with which they can access credit under your decision system?\n",
    "\n",
    "The following code block prints the minimum, maximum, mean, and median income of borrowers who were approved, then borrowers who were not approved. Because we applied a logarithmic scale to the income column in the process of data preparation, we will go back to the original test dataframe to perform this, with the only transformation being dropping the same rows we dropped in the preparation so that the arrays are the same length."
   ]
  },
  {
   "cell_type": "code",
   "execution_count": 98,
   "metadata": {},
   "outputs": [
    {
     "name": "stdout",
     "output_type": "stream",
     "text": [
      "21000\n",
      "168000\n",
      "58263.395833333336\n",
      "52000.0\n",
      "\n",
      "\n",
      "4800\n",
      "1782000\n",
      "66670.4568009854\n",
      "55000.0\n"
     ]
    }
   ],
   "source": [
    "df_test = df_test.dropna()\n",
    "print(df_test[loan_approved > 0][\"person_income\"].min())\n",
    "print(df_test[loan_approved > 0][\"person_income\"].max())\n",
    "print(df_test[loan_approved > 0][\"person_income\"].mean())\n",
    "print(df_test[loan_approved > 0][\"person_income\"].median())\n",
    "\n",
    "print(\"\\n\")\n",
    "print(df_test[loan_approved == 0][\"person_income\"].min())\n",
    "print(df_test[loan_approved == 0][\"person_income\"].max())\n",
    "print(df_test[loan_approved == 0][\"person_income\"].mean())\n",
    "print(df_test[loan_approved == 0][\"person_income\"].median())"
   ]
  },
  {
   "attachments": {},
   "cell_type": "markdown",
   "metadata": {},
   "source": [
    "The lowest income of an accepted borrower was $21,000 USD, and the maximum was $168,000 USD. The average was $58,263.40 USD, and the median was $52,000 USD. For rejected borrowers, the minimum income was $4,800 USD, the maximum was 1.7 million USD, the average was $66,670.46 USD, and the median was $55,000 USD. What this suggests is that very low income borrowers are unable to access credit, as anyone with under $21,000 USD in yearly income is denied credit. That being said, $21,000 USD per year is achievable with a minimum wage job, so this suggests that the bar for being of enough income to be approved is having a job. This being said, the median incomes suggest that the mean for the denied borrowers may be unusually high due to outliers. The medians are very similar, which suggests that income is not a major factor in accessing credit under this model."
   ]
  },
  {
   "attachments": {},
   "cell_type": "markdown",
   "metadata": {},
   "source": [
    "# Discussion\n",
    "\n",
    "In this modeling exercise, we found that optimizing profit often leads to very low lending rates for banks. The optimal approval rate for the bank was only 0.73%, which shows that making the most possible money leads to very limited access to credit for borrowers. Interestingly, the model did not discriminate based on loan intent much at all, despite strongly differing rates of default between different intention categories. Age was a seemingly important factor, with no prospective borrower above the age of 31 being granted a loan. It could be argued that using all features to train the LogisticRegression model introduced opportunities for bias in the decisions, as if people 31 years or older, for example, show a high rate of default, they may have more difficulty accessing credit under this automated decision systems. In order for systems to be fair, it is possible that optimizing purely for profit is not ideal, as patterns in data may produce uneven outcomes for borrowers, which is ideally to be avoided."
   ]
  },
  {
   "attachments": {},
   "cell_type": "markdown",
   "metadata": {},
   "source": [
    "4. Considering that people seeking loans for medical expenses have a high rate of default, is it *fair*  that it is more difficult for them to obtain access to credit?\n",
    "\n",
    "In answering this question, I apply the following definition of fairness:\n",
    "In a fair system, all parties have equal chances of succeeding at, or taking advantage of an opportunity.\n",
    "\n",
    "Under this definition, I find that it is technically fair for people seeking loans for medical expenses to have a harder time obtaining access to credit. As long as this increased difficulty is equally true for all people seeking medical loans, and they are subject to the same decision making process, it is technically fair. However, the outcomes could still be unfair even if the decision making process is fair. For example, if part of the decision for whether to give a medical loan is examining the client's income, this could give some clients an unfair advantage over others depending on their access to high-paying jobs (which depends on their access to education, which depends hugely on where they were born, which they had no control over). I believe that in an ideal, fair world, everyone seeking medical care would have equal access to it, but that is not the world we live in. Given the unfair world we live in, I find that a decision making process that makes it more difficult for people seeking medical loans to access credit is fair."
   ]
  }
 ],
 "metadata": {
  "kernelspec": {
   "display_name": "ml-0451",
   "language": "python",
   "name": "python3"
  },
  "language_info": {
   "codemirror_mode": {
    "name": "ipython",
    "version": 3
   },
   "file_extension": ".py",
   "mimetype": "text/x-python",
   "name": "python",
   "nbconvert_exporter": "python",
   "pygments_lexer": "ipython3",
   "version": "3.9.21"
  },
  "orig_nbformat": 4
 },
 "nbformat": 4,
 "nbformat_minor": 2
}
